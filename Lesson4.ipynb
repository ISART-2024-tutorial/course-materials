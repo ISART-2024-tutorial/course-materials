{
 "cells": [
  {
   "cell_type": "markdown",
   "id": "bd93239d-fd55-4b85-b23d-94f3e3bbab1f",
   "metadata": {},
   "source": [
    "# Lesson 4 - Compare with P.2108 Clutter Model\n",
    "\n",
    "In this lesson you'll compare the performance of your clutter propagation model with the P.2108 clutter model.\n",
    "\n",
    "### About P.2108\n",
    " * __The documentation__ for the P.2108 clutter model can be found at [Recommendation ITU-R P.2108-1](https://www.itu.int/dms_pubrec/itu-r/rec/p/R-REC-P.2108-1-202109-I!!PDF-E.pdf).\n",
    " * __The code repository__ for P.2108 can be found at [NTIA/p2108](https://github.com/NTIA/p2108) github repository.\n",
    "\n",
    "The P.2108 recommendation contains three methods for predicting clutter loss:\n",
    "1. Height Gain Terminal Correction Model, for 0.3 to 3 GHz\n",
    "2. Terrestrial Statistical Model, for 2 to 67 GHz\n",
    "3. Aeronautical Statistical Model, for 10 to 100 GHz\n",
    "\n",
    "We will use the Terrestrail Statistical Model because our measurement data is at 3.5 GHz."
   ]
  },
  {
   "cell_type": "markdown",
   "id": "12ab445e-2447-4e56-8f4b-55e2be21605e",
   "metadata": {},
   "source": [
    "### Import the P.2108 code library\n",
    "The NTIA code repository for P.2108 contains the U.S. reference implemention for all three P.2108 clutter loss prediction methods listed above. In **`course-materials/packages/p2108-1.0.0-py3-none-any.whl`** we've included an installable Python package for the P.2108 software. \n",
    "\n",
    "Execute the following cell to install the P.2108 package in your JupyterLab environment."
   ]
  },
  {
   "cell_type": "code",
   "execution_count": null,
   "id": "3b802a4c-cdc6-491c-bfc3-64448d9c13ac",
   "metadata": {},
   "outputs": [],
   "source": [
    "! pip install packages/p2108-1.0.0-py3-none-any.whl"
   ]
  },
  {
   "cell_type": "markdown",
   "id": "6c09bde0-dfbb-44e8-9349-ebe876d1850c",
   "metadata": {},
   "source": [
    "### Import the necessary python libraries"
   ]
  },
  {
   "cell_type": "code",
   "execution_count": null,
   "id": "68ce2602-bf5d-4fe5-88d5-1d1c96fb3fe5",
   "metadata": {},
   "outputs": [],
   "source": [
    "from ITS.ITU.PSeries import P2108\n",
    "import numpy as np\n",
    "import matplotlib.pyplot as plt\n",
    "import pandas as pd"
   ]
  },
  {
   "cell_type": "markdown",
   "id": "0d92d116-cbda-46f2-89b3-113b5415cc23",
   "metadata": {},
   "source": [
    "### How to use p2108"
   ]
  },
  {
   "cell_type": "code",
   "execution_count": null,
   "id": "d3b3417e-22b0-497b-9a3c-d916810b602a",
   "metadata": {},
   "outputs": [],
   "source": [
    "L__dB = P2108.TerrestrialStatisticalModel(3.5, 0.95, 50)"
   ]
  },
  {
   "cell_type": "code",
   "execution_count": null,
   "id": "5091e7f2-546c-4080-873c-f2271c07c897",
   "metadata": {},
   "outputs": [],
   "source": [
    "print(L__dB)"
   ]
  },
  {
   "cell_type": "code",
   "execution_count": null,
   "id": "97693825-483c-4b93-af73-793c86eafc5b",
   "metadata": {},
   "outputs": [],
   "source": [
    "greater_p25_df = pd.read_csv(\"data/MartinAcres_Lesson4.csv\")"
   ]
  },
  {
   "cell_type": "code",
   "execution_count": null,
   "id": "8587fc38-c520-47b2-8927-d6f3fb70b5f2",
   "metadata": {},
   "outputs": [],
   "source": [
    "slope = 13.71\n",
    "y_int = -9.8\n",
    "model_std = 3.8\n",
    "## define the clutter model\n",
    "def model(r_c):\n",
    "    return slope * np.log10(r_c) + y_int"
   ]
  },
  {
   "cell_type": "code",
   "execution_count": null,
   "id": "9a6f523c-b993-4fc3-995c-85f6e7d26e56",
   "metadata": {},
   "outputs": [],
   "source": [
    "greater_p25_df[\"p2108\"] = greater_p25_df.apply(lambda row: P2108.TerrestrialStatisticalModel(row.f__mhz/1000, row.d__km, 50), axis=1)\n"
   ]
  },
  {
   "cell_type": "code",
   "execution_count": null,
   "id": "7a68c562-3d20-4564-8ff0-7e46e4424803",
   "metadata": {},
   "outputs": [],
   "source": [
    "greater_p25_df.info()"
   ]
  },
  {
   "cell_type": "code",
   "execution_count": null,
   "id": "bee45ac4-eb14-412f-9c1d-2d507dede5f2",
   "metadata": {},
   "outputs": [],
   "source": [
    "plt.scatter(greater_p25_df[\"d__km\"], greater_p25_df[\"L_excess__db\"], label='Measurements', s=12)\n",
    "plt.scatter(greater_p25_df[\"d__km\"], greater_p25_df[\"p2108\"], label='p2108 predictions', s=12)\n",
    "plt.scatter(greater_p25_df[\"d__km\"], greater_p25_df[\"pred_loss\"], label='EuCAP Model predictions', s=12)\n",
    "\n",
    "plt.xlabel('Distance (m)')\n",
    "plt.ylabel('Clutter Loss (dB)')\n",
    "plt.title('Path Distance vs Clutter Loss')\n",
    "\n",
    "plt.legend(fontsize=14)\n",
    "plt.gca().yaxis.grid(True)\n",
    "plt.show()"
   ]
  },
  {
   "cell_type": "code",
   "execution_count": null,
   "id": "3e930e1b-8d15-45b8-9667-b5c9e926f436",
   "metadata": {},
   "outputs": [],
   "source": [
    "greater_p25_df.head(5)"
   ]
  },
  {
   "cell_type": "code",
   "execution_count": null,
   "id": "186c4a93-f8a4-496e-93f8-5d9c375fe477",
   "metadata": {},
   "outputs": [],
   "source": [
    "distances_array = np.sort(greater_p25_df[\"d__km\"])\n",
    "clutter_distances_array = np.sort(greater_p25_df[\"clutter_d__meter\"])"
   ]
  },
  {
   "cell_type": "code",
   "execution_count": null,
   "id": "aa9e4802-37e5-41be-bc7a-330e01037aed",
   "metadata": {},
   "outputs": [],
   "source": [
    "p2108_cdf_distri = []\n",
    "for d in distances_array:\n",
    "    p2108_cdf_distri.append(P2108.TerrestrialStatisticalModel(greater_p25_df[\"f__mhz\"][0]/1000, d, np.random.randint(1,100)))\n",
    "\n",
    "model_cdf_distri = []\n",
    "for d in clutter_distances_array:\n",
    "    model_cdf_distri.append(np.random.normal(model(d), model_std))"
   ]
  },
  {
   "cell_type": "code",
   "execution_count": null,
   "id": "1aeddd85-add6-45a8-9c96-38e499df2ec4",
   "metadata": {},
   "outputs": [],
   "source": [
    "plt.rcParams[\"figure.figsize\"] = (11,6)\n",
    "\n",
    "meas_N = len(greater_p25_df)\n",
    "meas_x = np.sort(greater_p25_df[\"L_excess__db\"])\n",
    "meas_y = np.arange(meas_N) / float(meas_N)\n",
    "## plot the CDF\n",
    "plt.plot(meas_x, meas_y, label='Meas')\n",
    "\n",
    "p2108_x = np.sort(np.array(p2108_cdf_distri))\n",
    "p2108_y = np.arange(meas_N) / float(meas_N)\n",
    "## plot the CDF\n",
    "plt.plot(p2108_x, p2108_y, label='p2108')\n",
    "\n",
    "model_x = np.sort(np.array(model_cdf_distri))\n",
    "model_y = np.arange(meas_N) / float(meas_N)\n",
    "## plot the CDF\n",
    "plt.plot(model_x, model_y, label='Model')\n",
    "\n",
    "plt.xlabel('Clutter Loss (dB)')\n",
    "plt.ylabel('Probability')\n",
    "plt.title('Clutter Loss CDF')\n",
    "\n",
    "plt.gca().yaxis.grid(True)\n",
    "plt.legend(fontsize=14)\n",
    "plt.show()"
   ]
  }
 ],
 "metadata": {
  "kernelspec": {
   "display_name": "Python 3 (ipykernel)",
   "language": "python",
   "name": "python3"
  },
  "language_info": {
   "codemirror_mode": {
    "name": "ipython",
    "version": 3
   },
   "file_extension": ".py",
   "mimetype": "text/x-python",
   "name": "python",
   "nbconvert_exporter": "python",
   "pygments_lexer": "ipython3",
   "version": "3.11.9"
  }
 },
 "nbformat": 4,
 "nbformat_minor": 5
}
