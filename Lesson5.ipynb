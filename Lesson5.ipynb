{
 "cells": [
  {
   "cell_type": "markdown",
   "id": "40cb3121-0d7e-4953-a07d-f4c50bbba7e6",
   "metadata": {},
   "source": [
    "# Lesson 5 - Test with Other Datasets\n",
    "\n",
    "What have we done so far:\n",
    "1. Use lidar to measure clutter heights (lesson 2).\n",
    "2. Build a clutter model that considers _3D Clutter Distance_ (lesson 3).\n",
    "3. Fit the clutter model to real measurement data from the Martin Acres neighborhood (lesson 3).\n",
    "4. Compare the clutter model to the ITU-R P.2108 clutter model (lesson 4).\n",
    "\n",
    "In this lesson we will examine how the model predicts clutter loss in a new area, Salt Lake City. To do this we will use three measurement datasets performed on 7/10/2023. These datasets come from NTIA's dataset repository __add a live link__. We will walk through loading the new datasets and then conclude by posing a challenge to all attendees. \n",
    "\n",
    "### Measurements from a new clutter environment, Salt Lake City\n",
    "\n",
    "<img src=\"./images/ma_slc.png\" alt=\"clutter compare\" width=\"600\"/>\n",
    "\n",
    "Salt Lake City (SLC) provides a new clutter type to examine the performance of our model. There are three measurement datasets at 3.475 GHz taken in SLC. These datasets each have a different TX location (Browning, City Creek, or Ensign) and the same RX locations (within downtown SLC). The files are located in the `course-materials/data/` directory.\n",
    "\n",
    "- **`course-materials/data/SaltLakeCity_Urban_Ensign_3475_20230710`**\n",
    "- **`course-materials/data/SaltLakeCity_Urban_CityCreek_3475_20230710`**\n",
    "- **`course-materials/data/SaltLakeCity_Urban_Browning_3475_20230710`**\n",
    "\n",
    "### Ensign, Excess Loss\n",
    "\n",
    "<img src=\"./images/[map] Ensign Excess Loss, Entire Drive Route 3475 MHz.png\" alt=\"Ensign Map\" width=\"700\"/>\n",
    "\n",
    "### City Creek, Excess Loss\n",
    "\n",
    "<img src=\"./images/[map] City Creek Excess Loss, Entire Drive Route 3475 MHz.png\" alt=\"City Creek Map\" width=\"700\"/>\n",
    "\n",
    "### Browning, Excess Loss\n",
    "\n",
    "<img src=\"./images/[map] Browning Excess Loss, Entire Drive Route 3475 MHz.png\" alt=\"Browning Map\" width=\"700\"/>\n",
    "\n",
    "\n",
    "\n",
    "# **The Challenge**  \n",
    "\n",
    "The model we created considers the height of the clutter and the receive angle. In practice, we've shown it is effective at predicting clutter loss in the Martin Acres neighborhood with two different transmit elevations. Our hope is that it will also be effective in areas with different clutter heights and transmit elevations.\n",
    "\n",
    "In this challenge we ask you, \"In what ways does the model fail when tested against the Salt Lake City datasets? What can be done to improve it?\"\n",
    "\n",
    "### Get started by importing the necessary python libraries"
   ]
  },
  {
   "cell_type": "code",
   "execution_count": null,
   "id": "0f52c6c2-5808-40a3-b2e9-f70cb553944b",
   "metadata": {},
   "outputs": [],
   "source": [
    "import numpy as np\n",
    "import matplotlib.pyplot as plt\n",
    "import pandas as pd\n",
    "import rasterio"
   ]
  },
  {
   "cell_type": "markdown",
   "id": "e09141c1-7e7d-4669-9ab8-ee6fd039c700",
   "metadata": {},
   "source": [
    "## Find clutter heights using SLC Lidar data\n",
    "\n",
    "Just like lesson 2, let's find the distribution of clutter heights within downtown SLC. The SLC terrain and surface data can be found in the `course-materials/data/` directory."
   ]
  },
  {
   "cell_type": "code",
   "execution_count": null,
   "id": "8c730b00-6e16-4a72-b851-8285867d0f74",
   "metadata": {},
   "outputs": [],
   "source": [
    "## bring in LiDAR data for SLC Downtown\n",
    "dataset_terrain = rasterio.open(\"./data/SLC.dtm.tif\")\n",
    "dataset_surface = rasterio.open(\"./data/SLC.dsm.tif\")\n",
    "band1_terrain = dataset_terrain.read(1)\n",
    "band1_surface = dataset_surface.read(1)\n",
    "## set map and LiDAR bounds\n",
    "left, bottom, right, top = dataset_terrain.bounds\n",
    "## EPSG 26912\n",
    "left_deg, bottom_deg, right_deg, top_deg = (-111.9061785, 40.7515306, -111.8817738, 40.7764524)\n",
    "## for converting lat and long degrees into meters (same as lesson 2)\n",
    "meters_per_lat = 111319.49 \n",
    "meters_per_long = 85263.24 ## only valid at latitudes of 40 degrees"
   ]
  },
  {
   "cell_type": "markdown",
   "id": "6b3b9ff4-2515-4469-9f43-2b1fec714dd8",
   "metadata": {},
   "source": [
    "### Pick a Latitude and Longitude point for the center of Downtown SLC "
   ]
  },
  {
   "cell_type": "code",
   "execution_count": null,
   "id": "2adade20-1aa6-4900-b338-86b9c73034ad",
   "metadata": {},
   "outputs": [],
   "source": [
    "## takes a lat, long coordinate pair\n",
    "##  and returns a meters based coordinate pair\n",
    "def convert_gps_to_meters(lat, long):\n",
    "    lat_dif = top_deg - lat\n",
    "    long_dif = long - left_deg\n",
    "    vert_dif_m = lat_dif * meters_per_lat\n",
    "    horz_dif_m = long_dif * meters_per_long\n",
    "    return (vert_dif_m, horz_dif_m)\n",
    "\n",
    "## get_elev function finds the elevation of a Latitude and Longitude location \n",
    "##  takes lat and long of the location, lidar dataset (DSM or DTM), and the lidar band that holds elevation\n",
    "def get_elev(lat, long, lidar_model, lidar_elev_band):\n",
    "    vert_dif_m, horz_dif_m = convert_gps_to_meters(lat, long)\n",
    "    row, col = lidar_model.index(left + horz_dif_m, top - vert_dif_m) ## get the row and colomn where the elevation is stored\n",
    "    elev = lidar_elev_band[row][col] ## retrieve the elevation\n",
    "    return elev\n",
    "\n",
    "## set SLC Downtown center location\n",
    "slc_center = (40.7614,-111.8925)\n",
    "slc_center_meters = convert_gps_to_meters(slc_center[0], slc_center[1])\n",
    "print(\"SLC center point is at x = {:.2f}, y = {:.2f} (in meters). The origin is the top left corner of lidar data.\".format(slc_center_meters[1], slc_center_meters[0]))"
   ]
  },
  {
   "cell_type": "markdown",
   "id": "49b93e44-f484-4b21-98ee-8a7109bb615a",
   "metadata": {},
   "source": [
    "### Find clutter heights within 500 meters of the center point in Downtown SLC"
   ]
  },
  {
   "cell_type": "code",
   "execution_count": null,
   "id": "0024eb33-1876-40d5-be1b-45bdece357ee",
   "metadata": {},
   "outputs": [],
   "source": [
    "xmid = slc_center_meters[1]\n",
    "ymid = slc_center_meters[0]\n",
    "radius = 500\n",
    "## generate 10000 random x,y locations near the SLC center\n",
    "x_random = np.random.randint(xmid-radius, xmid+radius, 10000)\n",
    "y_random = np.random.randint(ymid-radius, ymid+radius, 10000)\n",
    "\n",
    "## create lists to hold the locations and clutter heights that are within 500 meters of the center point\n",
    "within_500m_x = []\n",
    "within_500m_y = []\n",
    "clutter_height_ls = []\n",
    "\n",
    "## loop through all of the random points\n",
    "for i in range(len(x_random)):\n",
    "    ## find distance from center to a random point\n",
    "    distance = np.sqrt(np.square(slc_center_meters[1]-x_random[i]) + np.square(slc_center_meters[0]-y_random[i]))\n",
    "    \n",
    "    ## if distance is within 500 meters, find the clutter height at that location\n",
    "    if distance < radius:\n",
    "        ground_elev = band1_terrain[y_random[i]][x_random[i]]\n",
    "        clutter_elev = band1_surface[y_random[i]][x_random[i]]\n",
    "        clutter_height = clutter_elev - ground_elev\n",
    "        ## clutter must be higher than 2 meters to be considered \"clutter\"\n",
    "        if clutter_height > 2:\n",
    "            clutter_height_ls.append(clutter_height)\n",
    "            within_500m_x.append(x_random[i])\n",
    "            within_500m_y.append(y_random[i])"
   ]
  },
  {
   "cell_type": "markdown",
   "id": "ac496d44-f5c5-4517-b8a7-16e2535d6ab7",
   "metadata": {},
   "source": [
    "### Plot the distribution of clutter heights in Downtown SLC"
   ]
  },
  {
   "cell_type": "code",
   "execution_count": null,
   "id": "2b69afa2-76ce-46a3-b7c4-7bd791e1eadb",
   "metadata": {},
   "outputs": [],
   "source": [
    "plt.rcParams[\"figure.figsize\"] = (10,5)\n",
    "\n",
    "# the histogram of the data\n",
    "n, bins, patches = plt.hist(clutter_height_ls, np.linspace(2,40,39), density=True, facecolor='g', alpha=.85)\n",
    "\n",
    "\n",
    "plt.xlabel('Clutter Height (meters)')\n",
    "plt.ylabel('Probability')\n",
    "plt.title('Histogram of Clutter Heights of Salt Lake City Downtown')\n",
    "plt.grid(True)\n",
    "plt.show()"
   ]
  },
  {
   "cell_type": "code",
   "execution_count": null,
   "id": "01edfd32-7024-406e-ad93-c3fe94dd3e7f",
   "metadata": {},
   "outputs": [],
   "source": [
    "print(\"Downtown SLC Clutter Heights:\\n Mean = {:.1f} meters\\n Median = {:.1f} meters\\n Standard Deviation = {:.1f} meters\".format(np.mean(clutter_height_ls),\n",
    "                                                                                                                         np.median(clutter_height_ls),\n",
    "                                                                                                                         np.std(clutter_height_ls)))\n",
    "\n",
    "slc_clutter_height_mean = np.mean(clutter_height_ls)\n",
    "slc_clutter_height_std = np.std(clutter_height_ls)"
   ]
  },
  {
   "cell_type": "markdown",
   "id": "aa6be6da-48e1-420a-a3a2-c01960712e85",
   "metadata": {},
   "source": [
    "# Dataset #1: Ensign\n",
    "\n",
    "It's time to look at the measurement data gathered from the Ensign TX location. Start by loading the data from CSV into a DataFrame."
   ]
  },
  {
   "cell_type": "code",
   "execution_count": null,
   "id": "2b4cfdfe-7d28-4d24-bedb-f6555ca54a35",
   "metadata": {},
   "outputs": [],
   "source": [
    "## load the measurement data\n",
    "slc_ensign_name = \"./data/SaltLakeCity_Urban_Ensign_3475_20230710.csv\"\n",
    "slc_ensign_df_full = pd.read_csv(slc_ensign_name)\n",
    "slc_ensign_df = slc_ensign_df_full.where(slc_ensign_df_full[\"ID\"] < 54638) ## ignore measurements after ID 54638 (transmitter was turned off)\n",
    "\n",
    "## set static variables like TX location, frequency, and antenna heights\n",
    "ensign_TxLat = 40.7910862900222\n",
    "ensign_TxLon = -111.888521012526\n",
    "ensign_f__mhz = 3475.0\n",
    "ensign_h_tx__meter = 19.9\n",
    "ensign_h_rx__meter = 2.82\n",
    "ensign_Elev_t_tx__meter = 1516.2"
   ]
  },
  {
   "cell_type": "markdown",
   "id": "f1620c98-033a-4028-988c-1ab4099b220b",
   "metadata": {},
   "source": [
    "Look at the first five rows of the data."
   ]
  },
  {
   "cell_type": "code",
   "execution_count": null,
   "id": "c09a24d0-82c2-44ff-81e5-a3d8adbe516a",
   "metadata": {},
   "outputs": [],
   "source": [
    "slc_ensign_df.head(5)"
   ]
  },
  {
   "cell_type": "markdown",
   "id": "73ffdd07-6726-4883-90f6-3606f18dda47",
   "metadata": {},
   "source": [
    "### Column definitions \n",
    "\n",
    "| Column            | Definition                         |\n",
    "| ---------------   |------------------------------------|\n",
    "| `ID`              | Identifier                         |\n",
    "| `RxLat`           | Rx Latitude                        |\n",
    "| `RxLon`           | Rx Longitude                       |\n",
    "| `d__km`           | Distance TX to RX                  |\n",
    "| `L_btl__db`       | Basic Transmission Loss            |\n",
    "| `Elev_t_rx__meter`| Elevation at the RX Location       |\n",
    "| `timeOffset__sec` | Time between measurements          |\n",
    "\n",
    "\n",
    "### Calculate and add a new column for the RX elevation angle to the DataFrame"
   ]
  },
  {
   "cell_type": "code",
   "execution_count": null,
   "id": "ad85afb3-b8fd-499f-b6a6-a8bce618edce",
   "metadata": {},
   "outputs": [],
   "source": [
    "## RX elevation angle = arcsin( (tx_altitude - rx_altitude) / Hypotenuse distance )\n",
    "##  returns Rx elevation angle in degrees\n",
    "def rx_elev_angle(alt_rx, alt_tx, d, antenna_rx_m, antenna_tx_m):\n",
    "    soh = np.abs((alt_tx+antenna_tx_m) - (alt_rx+antenna_rx_m)) / (d*1000)\n",
    "    angle_deg = np.arcsin(soh)*360/(np.pi*2) \n",
    "    return angle_deg\n",
    "\n",
    "## calculate the rx elevation angle and add a new column to the dataframe\n",
    "slc_ensign_df[\"rx_angle__deg\"] = slc_ensign_df.apply(lambda row: rx_elev_angle(row.Elev_t_rx__meter, ensign_Elev_t_tx__meter, row.d__km, ensign_h_rx__meter, ensign_h_tx__meter), axis=1)"
   ]
  },
  {
   "cell_type": "code",
   "execution_count": null,
   "id": "d497615c-d2b8-4bb1-a969-9834271ea0a4",
   "metadata": {},
   "outputs": [],
   "source": [
    "slc_ensign_df.head(5)"
   ]
  },
  {
   "cell_type": "markdown",
   "id": "95ae8db2-8542-47e8-8263-28bd20ac066e",
   "metadata": {},
   "source": [
    "### Summary Statistics for RX Elevation Angle"
   ]
  },
  {
   "cell_type": "code",
   "execution_count": null,
   "id": "236675f5-680c-47b3-8761-215bd7356aed",
   "metadata": {},
   "outputs": [],
   "source": [
    "print(\"\\t\\t\\t\\t\\tMin\\tMax\\tMean\\tSt Dev\")\n",
    "\n",
    "print(\"Ensign - RX elevation angle (deg)\\t{:.2f}\\t{:.2f}\\t{:.2f}\\t{:.2f}\".format(np.min(slc_ensign_df[\"rx_angle__deg\"]),\n",
    "                                                                                     np.max(slc_ensign_df[\"rx_angle__deg\"]),\n",
    "                                                                                     np.mean(slc_ensign_df[\"rx_angle__deg\"]),\n",
    "                                                                                     np.std(slc_ensign_df[\"rx_angle__deg\"])))"
   ]
  },
  {
   "cell_type": "markdown",
   "id": "eab84c6d-4c29-4c6f-aa42-ca36dedfe365",
   "metadata": {},
   "source": [
    "### Calculate 3D Clutter Distance and add a new column\n",
    "Remember the 3D Clutter Distance calculation relies on the mean (19.3 m) and standard deviation (12.0 m) that we measured of the clutter heights in Downtown SLC."
   ]
  },
  {
   "cell_type": "code",
   "execution_count": null,
   "id": "3ab514e3-36c8-4340-9f4b-f665f4eb8009",
   "metadata": {},
   "outputs": [],
   "source": [
    "h_c = slc_clutter_height_mean + 2*slc_clutter_height_std\n",
    "\n",
    "def clutter_distance(rep_clutter_height, rx_angle):\n",
    "    return rep_clutter_height/np.sin(rx_angle*(2*np.pi)/360) ## 2*pi/360 converts from degrees to radians\n",
    "\n",
    "## add the new clutter distance columns\n",
    "slc_ensign_df[\"clutter_d__meter\"] = slc_ensign_df.apply(lambda row: clutter_distance(h_c, row.rx_angle__deg), axis=1)"
   ]
  },
  {
   "cell_type": "code",
   "execution_count": null,
   "id": "5f2dea01-d2ac-4e14-bc1f-54d8b8141fe5",
   "metadata": {},
   "outputs": [],
   "source": [
    "slc_ensign_df.head(5)"
   ]
  },
  {
   "cell_type": "markdown",
   "id": "15e39e6c-56cf-4111-8830-e6109de61f80",
   "metadata": {},
   "source": [
    "### Summary Statistics for 3D Clutter Distance"
   ]
  },
  {
   "cell_type": "code",
   "execution_count": null,
   "id": "a0fdb989-6ebc-43f1-aa75-29d143e179e0",
   "metadata": {},
   "outputs": [],
   "source": [
    "print(\"\\t\\t\\t\\t\\tMin\\tMax\\tMean\\tSt Dev\")\n",
    "\n",
    "print(\"Ensign - 3D Clutter Dist (meters)\\t{:.1f}\\t{:.1f}\\t{:.1f}\\t{:.1f}\".format(np.min(slc_ensign_df[\"clutter_d__meter\"]),\n",
    "                                                                                     np.max(slc_ensign_df[\"clutter_d__meter\"]),\n",
    "                                                                                     np.mean(slc_ensign_df[\"clutter_d__meter\"]),\n",
    "                                                                                     np.std(slc_ensign_df[\"clutter_d__meter\"])))"
   ]
  },
  {
   "cell_type": "markdown",
   "id": "d4ee2c8e-77f1-4398-80c5-3e8c241b75b5",
   "metadata": {},
   "source": [
    "### Calculate the Clutter Loss and add a new column\n",
    "The \"clutter loss\" column will be called `L_excess__db` (same as lesson 3). It is defined as \"measured loss in excess of free space.\" Keep in mind that this dataset (and Browning, and City Creek) contains some locations where terrain obstructions exist. There aren't many, but it is present in the data. "
   ]
  },
  {
   "cell_type": "code",
   "execution_count": null,
   "id": "ff88ef14-eecb-4cea-9f7d-33941c1292ed",
   "metadata": {},
   "outputs": [],
   "source": [
    "## calculate Free Space Path Loss\n",
    "def fspl(distance_km, frequency_mhz):\n",
    "    fspl_lin = np.square((4 * np.pi * distance_km*1e3 * frequency_mhz*1e6) / 300e6)\n",
    "    fspl_dB = 10 * np.log10(fspl_lin)\n",
    "    return fspl_dB\n",
    "## add Free Space Path Loss to the DataFrame    \n",
    "slc_ensign_df[\"L_fs__db\"] = slc_ensign_df.apply(lambda row: fspl(row.d__km, ensign_f__mhz), axis=1)\n",
    "\n",
    "## add clutter loss = (basic transmission loss - free space path loss) to the DataFrame\n",
    "slc_ensign_df[\"L_excess__db\"] = slc_ensign_df.apply(lambda row: row.L_btl__db - row.L_fs__db, axis=1)"
   ]
  },
  {
   "cell_type": "code",
   "execution_count": null,
   "id": "34549749-6064-4aed-bb9e-a5c956913538",
   "metadata": {},
   "outputs": [],
   "source": [
    "slc_ensign_df.head(5)"
   ]
  },
  {
   "cell_type": "markdown",
   "id": "c80b69e4-d213-4886-a998-349caccc42bf",
   "metadata": {},
   "source": [
    "### Plot the Path Distance vs Clutter Loss"
   ]
  },
  {
   "cell_type": "code",
   "execution_count": null,
   "id": "90189d07-46ed-47d2-80a0-52b12fd480b1",
   "metadata": {},
   "outputs": [],
   "source": [
    "plt.scatter(slc_ensign_df[\"d__km\"], slc_ensign_df[\"L_excess__db\"], label='SLC Ensign', s=12)\n",
    "\n",
    "plt.xlabel('Distance (km)')\n",
    "plt.ylabel('Clutter Loss (dB)')\n",
    "plt.title('Path Distance vs Clutter Loss')\n",
    "\n",
    "plt.legend(fontsize=14)\n",
    "plt.gca().yaxis.grid(True)\n",
    "plt.show()"
   ]
  },
  {
   "cell_type": "markdown",
   "id": "7ca7ec67-c41c-4b74-b555-a9276928e7dd",
   "metadata": {},
   "source": [
    "### Plot the 3D Clutter Distance vs Clutter Loss"
   ]
  },
  {
   "cell_type": "code",
   "execution_count": null,
   "id": "fdc969e6-706b-43f0-94fb-8e883063ffb1",
   "metadata": {},
   "outputs": [],
   "source": [
    "plt.scatter(slc_ensign_df[\"clutter_d__meter\"], slc_ensign_df[\"L_excess__db\"], label='SLC Ensign', s=12)\n",
    "\n",
    "plt.xlabel('3D Clutter Distance (m)')\n",
    "plt.ylabel('Clutter Loss (dB)')\n",
    "plt.title('3D Clutter Distance vs Clutter Loss')\n",
    "\n",
    "plt.legend(fontsize=14)\n",
    "plt.gca().yaxis.grid(True)\n",
    "plt.show()"
   ]
  },
  {
   "cell_type": "markdown",
   "id": "3ca27e47-67cf-46f9-8b93-76f04d325b4a",
   "metadata": {},
   "source": [
    "### Compare with our model (from lesson 3)"
   ]
  },
  {
   "cell_type": "code",
   "execution_count": null,
   "id": "56885acd-7472-4d00-abc0-945926fd6b8a",
   "metadata": {},
   "outputs": [],
   "source": [
    "## define the Lesson 3 model\n",
    "y_int = -9.8\n",
    "slope = 13.7\n",
    "print(\"a = {:.2f} \\nb = {:.2f}\".format(slope, y_int))\n",
    "print(\"L_cm = {:.2f} * log10(r_c) + {:.2f}\".format(slope, y_int))"
   ]
  },
  {
   "cell_type": "code",
   "execution_count": null,
   "id": "bb029ea7-d655-4f0c-9c0b-a421e122c25a",
   "metadata": {},
   "outputs": [],
   "source": [
    "## Plot\n",
    "full_x = np.linspace(5,1750,2000)\n",
    "full_y = slope*np.log10(full_x) + y_int\n",
    "plt.plot(full_x, full_y, label='Model', c='b')\n",
    "\n",
    "plt.scatter(slc_ensign_df[\"clutter_d__meter\"], slc_ensign_df[\"L_excess__db\"], label='SLC Ensign', s=8)\n",
    "\n",
    "plt.xlabel('3D Clutter Distance (m)', fontsize=15)\n",
    "plt.ylabel('Clutter Loss (dB)', fontsize=15)\n",
    "plt.title('3D Clutter Distance Model vs SLC Data', fontsize=16)\n",
    "plt.legend(fontsize=14)\n",
    "plt.gca().yaxis.grid(True)\n",
    "plt.show()"
   ]
  },
  {
   "cell_type": "markdown",
   "id": "cfd2bc77-50c0-4e57-9828-8e32b0d3de76",
   "metadata": {},
   "source": [
    "### Uh oh!\n",
    "\n",
    "Let's look at the City Creek and Browning before we freak out."
   ]
  },
  {
   "cell_type": "markdown",
   "id": "cf9d4838-21a9-4820-8c90-90d6f2b72500",
   "metadata": {},
   "source": [
    "# Dataset #2: City Creek\n",
    "We'll do the same as Ensign. \n",
    "1. Bring in the data.\n",
    "2. Calculate Rx elevation angle, 3D clutter distance, and clutter loss.\n",
    "3. Plot the data vs our model."
   ]
  },
  {
   "cell_type": "code",
   "execution_count": null,
   "id": "2cfb78f0-6c64-48bd-aa9c-c1076169557d",
   "metadata": {},
   "outputs": [],
   "source": [
    "slc_citycreek_name = \"./data/SaltLakeCity_Urban_CityCreek_3475_20230710.csv\"\n",
    "slc_citycreek_df = pd.read_csv(slc_citycreek_name)\n",
    "\n",
    "citycreek_TxLat = 40.80719231\n",
    "citycreek_TxLon = -111.8807371\n",
    "citycreek_f__mhz = 3475.0\n",
    "citycreek_h_tx__meter = 10.52\n",
    "citycreek_h_rx__meter = 2.82\n",
    "citycreek_Elev_t_tx__meter = 1875.6"
   ]
  },
  {
   "cell_type": "code",
   "execution_count": null,
   "id": "4a63e448-831e-41d0-8f98-b4403fdc3c31",
   "metadata": {},
   "outputs": [],
   "source": [
    "## calculate the rx elevation angle and add a new column to the dataframe\n",
    "slc_citycreek_df[\"rx_angle__deg\"] = slc_citycreek_df.apply(lambda row: rx_elev_angle(row.Elev_t_rx__meter, citycreek_Elev_t_tx__meter, row.d__km, citycreek_h_rx__meter, citycreek_h_tx__meter), axis=1)\n",
    "\n",
    "## Summary of RX elevation angle\n",
    "print(\"\\t\\t\\t\\t\\tMin\\tMax\\tMean\\tSt Dev\")\n",
    "\n",
    "print(\"City Creek - RX elevation angle (deg)\\t{:.2f}\\t{:.2f}\\t{:.2f}\\t{:.2f}\".format(np.min(slc_citycreek_df[\"rx_angle__deg\"]),\n",
    "                                                                                     np.max(slc_citycreek_df[\"rx_angle__deg\"]),\n",
    "                                                                                     np.mean(slc_citycreek_df[\"rx_angle__deg\"]),\n",
    "                                                                                     np.std(slc_citycreek_df[\"rx_angle__deg\"])))"
   ]
  },
  {
   "cell_type": "code",
   "execution_count": null,
   "id": "766887be-5e81-4061-b87d-18be77c1e6fc",
   "metadata": {},
   "outputs": [],
   "source": [
    "## add the new clutter distance columns\n",
    "slc_citycreek_df[\"clutter_d__meter\"] = slc_citycreek_df.apply(lambda row: clutter_distance(h_c, row.rx_angle__deg), axis=1)\n",
    "\n",
    "## Summary of 3D clutter distance\n",
    "print(\"\\t\\t\\t\\t\\tMin\\tMax\\tMean\\tSt Dev\")\n",
    "\n",
    "print(\"City Creek - 3D Clutter Dist (meter)\\t{:.2f}\\t{:.2f}\\t{:.2f}\\t{:.2f}\".format(np.min(slc_citycreek_df[\"clutter_d__meter\"]),\n",
    "                                                                                     np.max(slc_citycreek_df[\"clutter_d__meter\"]),\n",
    "                                                                                     np.mean(slc_citycreek_df[\"clutter_d__meter\"]),\n",
    "                                                                                     np.std(slc_citycreek_df[\"clutter_d__meter\"])))"
   ]
  },
  {
   "cell_type": "code",
   "execution_count": null,
   "id": "a72b9326-573c-4b8e-9fc9-2256c97f67ae",
   "metadata": {},
   "outputs": [],
   "source": [
    "## add free space path loss\n",
    "slc_citycreek_df[\"L_fs__db\"] = slc_citycreek_df.apply(lambda row: fspl(row.d__km, citycreek_f__mhz), axis=1)\n",
    "# add clutter loss (aka L_excess__db)\n",
    "slc_citycreek_df[\"L_excess__db\"] = slc_citycreek_df.apply(lambda row: row.L_btl__db - row.L_fs__db, axis=1)"
   ]
  },
  {
   "cell_type": "code",
   "execution_count": null,
   "id": "14c08db8-5574-4669-a854-8dbec4d3d843",
   "metadata": {},
   "outputs": [],
   "source": [
    "## plot clutter loss vs path distance\n",
    "plt.scatter(slc_citycreek_df[\"d__km\"], slc_citycreek_df[\"L_excess__db\"], label='SLC City Creek', s=12, c='tab:orange')\n",
    "\n",
    "plt.xlabel('Distance (km)')\n",
    "plt.ylabel('Clutter Loss (dB)')\n",
    "plt.title('Path Distance vs Clutter Loss')\n",
    "\n",
    "plt.legend(fontsize=14)\n",
    "plt.gca().yaxis.grid(True)\n",
    "plt.show()"
   ]
  },
  {
   "cell_type": "code",
   "execution_count": null,
   "id": "2311d143-d506-4498-aad6-70d286b40ff1",
   "metadata": {},
   "outputs": [],
   "source": [
    "## plot 3D clutter distance vs clutter loss\n",
    "plt.scatter(slc_citycreek_df[\"clutter_d__meter\"], slc_citycreek_df[\"L_excess__db\"], label='SLC City Creek', s=12, c='tab:orange')\n",
    "\n",
    "plt.xlabel('Clutter distance (m)')\n",
    "plt.ylabel('Clutter Loss (dB)')\n",
    "plt.title('3D Clutter Distance vs Clutter Loss')\n",
    "\n",
    "plt.legend(fontsize=14)\n",
    "plt.gca().yaxis.grid(True)\n",
    "plt.show()"
   ]
  },
  {
   "cell_type": "code",
   "execution_count": null,
   "id": "f4edcb9b-b7d0-43ba-96e2-4a34434ba5e5",
   "metadata": {},
   "outputs": [],
   "source": [
    "full_x = np.linspace(5,1000,2000)\n",
    "full_y = slope*np.log10(full_x) + y_int\n",
    "plt.plot(full_x, full_y, label='Model', c='b')\n",
    "\n",
    "plt.scatter(slc_ensign_df[\"clutter_d__meter\"], slc_ensign_df[\"L_excess__db\"], label='SLC Ensign', s=5, c='tab:blue')\n",
    "plt.scatter(slc_citycreek_df[\"clutter_d__meter\"], slc_citycreek_df[\"L_excess__db\"], label='SLC City Creek', s=5, c='tab:orange')\n",
    "\n",
    "\n",
    "plt.xlabel('3D Clutter Distance (m)', fontsize=15)\n",
    "plt.ylabel('Clutter Loss (dB)', fontsize=15)\n",
    "plt.title('3D Clutter Distance Model vs SLC Data', fontsize=16)\n",
    "plt.legend(fontsize=14)\n",
    "plt.gca().yaxis.grid(True)\n",
    "plt.show()"
   ]
  },
  {
   "cell_type": "markdown",
   "id": "b3f012b8-b8ae-4eff-9bd5-bff0e49f6330",
   "metadata": {},
   "source": [
    "# Dataset #3: Browning"
   ]
  },
  {
   "cell_type": "code",
   "execution_count": null,
   "id": "70f8b677-599b-4313-9d04-7f284bfd42d2",
   "metadata": {},
   "outputs": [],
   "source": [
    "slc_browning_name = \"./data/SaltLakeCity_Urban_Browning_3475_20230710.csv\"\n",
    "slc_browning_df_full = pd.read_csv(slc_browning_name)\n",
    "slc_browning_df = slc_browning_df_full.where(slc_browning_df_full[\"ID\"] < 63301)\n",
    "\n",
    "browning_TxLat = 40.766314982949\n",
    "browning_TxLon = -111.847887797405\n",
    "browning_f__mhz = 3475.0\n",
    "browning_h_tx__meter = 35.2\n",
    "browning_h_rx__meter = 2.82\n",
    "browning_Elev_t_tx__meter = 1433.7"
   ]
  },
  {
   "cell_type": "code",
   "execution_count": null,
   "id": "98e49599-f301-4ce6-9a68-67501d6270ca",
   "metadata": {},
   "outputs": [],
   "source": [
    "## calculate the rx elevation angle and add a new column to the dataframe\n",
    "slc_browning_df[\"rx_angle__deg\"] = slc_browning_df.apply(lambda row: rx_elev_angle(row.Elev_t_rx__meter, browning_Elev_t_tx__meter, row.d__km, browning_h_rx__meter, browning_h_tx__meter), axis=1)\n",
    "\n",
    "## Summary of RX elevation angle\n",
    "print(\"\\t\\t\\t\\t\\tMin\\tMax\\tMean\\tSt Dev\")\n",
    "\n",
    "print(\"Browning - RX elevation angle (deg)\\t{:.2f}\\t{:.2f}\\t{:.2f}\\t{:.2f}\".format(np.min(slc_browning_df[\"rx_angle__deg\"]),\n",
    "                                                                                     np.max(slc_browning_df[\"rx_angle__deg\"]),\n",
    "                                                                                     np.mean(slc_browning_df[\"rx_angle__deg\"]),\n",
    "                                                                                     np.std(slc_browning_df[\"rx_angle__deg\"])))"
   ]
  },
  {
   "cell_type": "code",
   "execution_count": null,
   "id": "36882ddc-8466-4716-84ab-b2490512ac98",
   "metadata": {},
   "outputs": [],
   "source": [
    "## add the new clutter distance columns\n",
    "slc_browning_df[\"clutter_d__meter\"] = slc_browning_df.apply(lambda row: clutter_distance(h_c, row.rx_angle__deg), axis=1)\n",
    "\n",
    "## Summary of 3D Clutter Distance\n",
    "print(\"\\t\\t\\t\\t\\tMin\\tMax\\tMean\\tSt Dev\")\n",
    "\n",
    "print(\"Browning - 3D Clutter Dist (meter)\\t{:.2f}\\t{:.2f}\\t{:.2f}\\t{:.2f}\".format(np.min(slc_browning_df[\"clutter_d__meter\"]),\n",
    "                                                                                     np.max(slc_browning_df[\"clutter_d__meter\"]),\n",
    "                                                                                     np.mean(slc_browning_df[\"clutter_d__meter\"]),\n",
    "                                                                                     np.std(slc_browning_df[\"clutter_d__meter\"])))"
   ]
  },
  {
   "cell_type": "code",
   "execution_count": null,
   "id": "1d5a4d94-9863-443a-991c-5c692b3586d6",
   "metadata": {},
   "outputs": [],
   "source": [
    "## add free space path loss\n",
    "slc_browning_df[\"L_fs__db\"] = slc_browning_df.apply(lambda row: fspl(row.d__km, browning_f__mhz), axis=1)\n",
    "## add clutter loss (aka L_excess__db)\n",
    "slc_browning_df[\"L_excess__db\"] = slc_browning_df.apply(lambda row: row.L_btl__db - row.L_fs__db, axis=1)"
   ]
  },
  {
   "cell_type": "code",
   "execution_count": null,
   "id": "e6895190-8369-4e08-adb7-c7771d6dbf02",
   "metadata": {},
   "outputs": [],
   "source": [
    "## plot clutter loss vs path distance \n",
    "plt.scatter(slc_browning_df[\"d__km\"], slc_browning_df[\"L_excess__db\"], label='SLC Browning', s=12, c='tab:green')\n",
    "\n",
    "plt.xlabel('Distance (km)')\n",
    "plt.ylabel('Clutter Loss (dB)')\n",
    "plt.title('Path Distance vs Clutter Loss')\n",
    "\n",
    "plt.legend(fontsize=14)\n",
    "plt.gca().yaxis.grid(True)\n",
    "plt.show()"
   ]
  },
  {
   "cell_type": "code",
   "execution_count": null,
   "id": "0673220f-a23e-46c3-84ae-6d92f2eac466",
   "metadata": {},
   "outputs": [],
   "source": [
    "## plot 3D clutter distance vs Clutter loss\n",
    "plt.scatter(slc_browning_df[\"clutter_d__meter\"], slc_browning_df[\"L_excess__db\"], label='SLC Browning', s=12, c='tab:green')\n",
    "\n",
    "plt.xlabel('Clutter distance (m)')\n",
    "plt.ylabel('Clutter Loss (dB)')\n",
    "plt.title('3D Clutter Distance vs Clutter Loss')\n",
    "\n",
    "plt.legend(fontsize=14)\n",
    "plt.gca().yaxis.grid(True)\n",
    "plt.show()"
   ]
  },
  {
   "cell_type": "code",
   "execution_count": null,
   "id": "e2888f1b-3353-4bc0-b160-da9764d1de05",
   "metadata": {},
   "outputs": [],
   "source": [
    "## plot all three dataset vs our model\n",
    "full_x = np.linspace(5,2300,2500)\n",
    "full_y = slope*np.log10(full_x) + y_int\n",
    "plt.plot(full_x, full_y, label='Model', c='b')\n",
    "\n",
    "# plt.scatter(bd_df[\"clutter_d__meter\"], bd_df[\"L_excess__db\"], label='Boulder Downtown', s=5)\n",
    "plt.scatter(slc_ensign_df[\"clutter_d__meter\"], slc_ensign_df[\"L_excess__db\"], label='SLC Ensign', s=5, c='tab:blue')\n",
    "plt.scatter(slc_citycreek_df[\"clutter_d__meter\"], slc_citycreek_df[\"L_excess__db\"], label='SLC City Creek', s=5, c='tab:orange')\n",
    "plt.scatter(slc_browning_df[\"clutter_d__meter\"], slc_browning_df[\"L_excess__db\"], label='SLC Browning', s=5, c='tab:green')\n",
    "\n",
    "\n",
    "plt.xlabel('3D Clutter Distance (m)', fontsize=15)\n",
    "plt.ylabel('Clutter Loss (dB)', fontsize=15)\n",
    "plt.title('3D Clutter Distance Model vs SLC Data', fontsize=16)\n",
    "plt.legend(fontsize=14)\n",
    "plt.gca().yaxis.grid(True)\n",
    "plt.show()"
   ]
  },
  {
   "cell_type": "markdown",
   "id": "a1355891-ce70-434f-967e-ca8c5e4d5e0a",
   "metadata": {},
   "source": [
    "That's all three datasets. As you can see there are new challenges to applying this model to a new dataset with a different type of clutter. \n",
    "\n",
    "### Final Thoughts\n",
    "\n",
    "We've done a lot. You've worked with lidar to get clutter metrics. You've thought about clutter as a slab that sits on top of the terrain. You've built a model that is based on RX elevation angle and local clutter heights. You've dug through five sets of measurement data (Martin Acres Low, Martin Acres High, Ensign, City Creek, and Browning). And you've compared your model to the P.2108 clutter model.\n",
    "\n",
    "That leaves us with a __challenge__. As stated before, \"In what ways does the model fail when tested against the Salt Lake City datasets? What can be done to improve it?\"\n",
    "\n",
    "Feel free to explore in any direction you choose. If you would like some ideas about what to try next we have some thoughts. Feel free to reach out to code@ntia.gov with breakthroughs or questions. \n",
    "\n",
    "End of Lesson 5. "
   ]
  }
 ],
 "metadata": {
  "kernelspec": {
   "display_name": "Python 3 (ipykernel)",
   "language": "python",
   "name": "python3"
  },
  "language_info": {
   "codemirror_mode": {
    "name": "ipython",
    "version": 3
   },
   "file_extension": ".py",
   "mimetype": "text/x-python",
   "name": "python",
   "nbconvert_exporter": "python",
   "pygments_lexer": "ipython3",
   "version": "3.11.9"
  }
 },
 "nbformat": 4,
 "nbformat_minor": 5
}
