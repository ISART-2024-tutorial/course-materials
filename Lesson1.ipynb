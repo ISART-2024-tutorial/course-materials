{
 "cells": [
  {
   "cell_type": "markdown",
   "id": "c86839c4-33ae-4fdb-b12d-3ce10e64aa0e",
   "metadata": {},
   "source": [
    "# Lesson 1 Intro to Jupyter Notebooks\n",
    "\n",
    "Welcome to ISART! \n",
    "\n",
    "This is a Jupyter Notebook and with it you can run Python code. If you haven't already, run the cell below by clicking on it and pressing \"Shift+Enter\" on your keyboard."
   ]
  },
  {
   "cell_type": "code",
   "execution_count": null,
   "id": "4b91fe84-4cbe-42eb-b482-fdd9e6f7f551",
   "metadata": {},
   "outputs": [],
   "source": [
    "print(\"Hello, ISART World!\")"
   ]
  },
  {
   "cell_type": "markdown",
   "id": "8cb2d621-4d27-4e91-bd51-86f844e31c20",
   "metadata": {},
   "source": [
    "Running a cell executes the cells contents. You should see the output \"Hello, ISART World\" print below the cell above.\n",
    "\n",
    "Next, let's run multiple cells in a row."
   ]
  },
  {
   "cell_type": "code",
   "execution_count": null,
   "id": "9ee01ca7-378a-4ea2-a743-0d2498a57675",
   "metadata": {},
   "outputs": [],
   "source": [
    "myString = \"Have a wonderful day!\""
   ]
  },
  {
   "cell_type": "code",
   "execution_count": null,
   "id": "a1b476d5-ba20-4a86-84ea-e4e01e9fa345",
   "metadata": {},
   "outputs": [],
   "source": [
    "print(myString)"
   ]
  },
  {
   "cell_type": "markdown",
   "id": "5568507a-985f-43e3-87af-7000bd8abb23",
   "metadata": {},
   "source": [
    "Having multiple cells helps separate your code into logical chunks. Variables (and functions) created in one cell persist accoss cells. \n",
    "\n",
    "## Plotting Example\n",
    "\n",
    "Let's finish the lesson with a plotting example of free-space path loss.\n",
    "\n",
    "$\\text{FSPL} = (\\frac{4 \\pi d f}{c})^2$ where _d_ is distance, _f_ is frequency, and _c_ is the speed of light.\n",
    "\n",
    "#### 1. Import a plotting library called Matplotlib and a scientific library called Numpy."
   ]
  },
  {
   "cell_type": "code",
   "execution_count": null,
   "id": "fd50eac8-eb52-4420-b4d3-ab0d5cb38585",
   "metadata": {},
   "outputs": [],
   "source": [
    "import matplotlib.pyplot as plt\n",
    "import numpy as np"
   ]
  },
  {
   "cell_type": "markdown",
   "id": "5d2c84f1-f695-47a4-8bfa-631a4cd534c6",
   "metadata": {},
   "source": [
    "#### 2. Create the data."
   ]
  },
  {
   "cell_type": "code",
   "execution_count": null,
   "id": "c6219264-8bbe-4228-bf77-dbbbebd53d8f",
   "metadata": {},
   "outputs": [],
   "source": [
    "f = 2.4e9 # 2.4 GHz \n",
    "c = 300e6\n",
    "d = np.linspace(10,1000,100) ## 10 to 1000 meters (by steps of 10)"
   ]
  },
  {
   "cell_type": "code",
   "execution_count": null,
   "id": "0738a3a7-9283-47f3-a140-cee0f07988f1",
   "metadata": {},
   "outputs": [],
   "source": [
    "## d is an array of distances (in meters) that we'd like to examine\n",
    "d"
   ]
  },
  {
   "cell_type": "markdown",
   "id": "28b11da4-d3a4-4de9-8688-d55edc75c816",
   "metadata": {},
   "source": [
    "#### 3. Calculate the loss and convert to decibel."
   ]
  },
  {
   "cell_type": "code",
   "execution_count": null,
   "id": "671d6e57-5649-4f3d-86fe-ab5090327d54",
   "metadata": {},
   "outputs": [],
   "source": [
    "## calculate free-space path loss for all of the distances in d\n",
    "fspl = np.square((4 * np.pi * d * f) / c)\n",
    "\n",
    "## convert to decibels\n",
    "fspl_dB = 10 * np.log10(fspl)"
   ]
  },
  {
   "cell_type": "markdown",
   "id": "c03bc1c4-90ef-4a6b-adcd-37b0cfa5814b",
   "metadata": {},
   "source": [
    "#### 4. Plot the outcome."
   ]
  },
  {
   "cell_type": "code",
   "execution_count": null,
   "id": "32e470f1-9bd4-44d5-8157-d72e515dd2b6",
   "metadata": {},
   "outputs": [],
   "source": [
    "## line plot of the data\n",
    "plt.plot(d, fspl_dB, label=\"2.4 GHz\".format(f))\n",
    "\n",
    "## add a title and axis labels\n",
    "plt.title(\"Free-Space Path Loss\")\n",
    "plt.xlabel(\"Distance (meters)\")\n",
    "plt.ylabel(\"Loss (dB)\")\n",
    "\n",
    "## add the legend\n",
    "plt.legend()\n",
    "\n",
    "## display the plot\n",
    "plt.show()"
   ]
  },
  {
   "cell_type": "markdown",
   "id": "0dabe212-372c-4136-bfe1-2abeef0de251",
   "metadata": {},
   "source": [
    "#### 5. Plot for multiple frequencies."
   ]
  },
  {
   "cell_type": "code",
   "execution_count": null,
   "id": "38ec4d0a-c137-4d14-9d62-a25fb463ad86",
   "metadata": {},
   "outputs": [],
   "source": [
    "f1 = 0.7e9    # 700 MHz\n",
    "f2 = 2.4e9    # 2.4 GHz\n",
    "f3 = 3.5e9    # 3.5 GHz\n",
    "f4 = 5.2e9    # 5.2 GHz\n",
    "f5 = 24.0e9   # 24  GHz"
   ]
  },
  {
   "cell_type": "code",
   "execution_count": null,
   "id": "b7a454e6-955f-4fa7-9396-bf4f62625bfb",
   "metadata": {},
   "outputs": [],
   "source": [
    "## calculate the pathloss\n",
    "fspl1 = np.square((4 * np.pi * d * f1) / c)\n",
    "fspl_dB1 = 10 * np.log10(fspl1)\n",
    "\n",
    "fspl2 = np.square((4 * np.pi * d * f2) / c)\n",
    "fspl_dB2 = 10 * np.log10(fspl2)\n",
    "\n",
    "fspl3 = np.square((4 * np.pi * d * f3) / c)\n",
    "fspl_dB3 = 10 * np.log10(fspl3)\n",
    "\n",
    "fspl4 = np.square((4 * np.pi * d * f4) / c)\n",
    "fspl_dB4 = 10 * np.log10(fspl4)\n",
    "\n",
    "fspl5 = np.square((4 * np.pi * d * f5) / c)\n",
    "fspl_dB5 = 10 * np.log10(fspl5)"
   ]
  },
  {
   "cell_type": "code",
   "execution_count": null,
   "id": "919044f2-3e72-4b8a-a3af-08f74b17fa30",
   "metadata": {},
   "outputs": [],
   "source": [
    "## plot\n",
    "plt.plot(d, fspl_dB1, label=\"700 MHz\".format(f1))\n",
    "plt.plot(d, fspl_dB2, label=\"2.4 GHz\".format(f2))\n",
    "plt.plot(d, fspl_dB3, label=\"3.5 GHz\".format(f3))\n",
    "plt.plot(d, fspl_dB4, label=\"5.2 GHz\".format(f4))\n",
    "plt.plot(d, fspl_dB5, label=\"24 GHz\".format(f5))\n",
    "\n",
    "## add a title and axis labels\n",
    "plt.title(\"Free-Space Path Loss\")\n",
    "plt.xlabel(\"Distance (meters)\")\n",
    "plt.ylabel(\"Loss (dB)\")\n",
    "\n",
    "## add the legend\n",
    "plt.legend()\n",
    "\n",
    "## display the plot\n",
    "plt.show()"
   ]
  },
  {
   "cell_type": "code",
   "execution_count": null,
   "id": "73bd8a59-1cd9-456a-abb8-5e1394df3e38",
   "metadata": {},
   "outputs": [],
   "source": []
  }
 ],
 "metadata": {
  "kernelspec": {
   "display_name": "Python 3 (ipykernel)",
   "language": "python",
   "name": "python3"
  },
  "language_info": {
   "codemirror_mode": {
    "name": "ipython",
    "version": 3
   },
   "file_extension": ".py",
   "mimetype": "text/x-python",
   "name": "python",
   "nbconvert_exporter": "python",
   "pygments_lexer": "ipython3",
   "version": "3.10.8"
  }
 },
 "nbformat": 4,
 "nbformat_minor": 5
}
