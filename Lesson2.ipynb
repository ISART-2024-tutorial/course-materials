{
 "cells": [
  {
   "cell_type": "markdown",
   "id": "40cb3121-0d7e-4953-a07d-f4c50bbba7e6",
   "metadata": {},
   "source": [
    "# Lesson 2 - Calculating the Average Clutter Height using Lidar\n",
    "\n",
    "In this lesson you will determine the average height of the clutter of the Martin Acres neighborhood in the city of Boulder, Colorado. \n",
    "\n",
    "<img src=\"./images/martin_acres_labeled.png\" alt=\"Martin Acres Map\" width=\"800\"/>\n",
    "\n",
    "The image shows a map of Boulder, Colorado with Martin Acres circled. Martin Acres is a residential neighborhood containing mostly single-family homes. You will use lidar data to determine the average height of the clutter (buildings and trees) in this region. \n",
    "\n",
    "The following cell will import the needed Python libraries."
   ]
  },
  {
   "cell_type": "code",
   "execution_count": null,
   "id": "3353c196-72af-4824-a019-04b713f7bad4",
   "metadata": {},
   "outputs": [],
   "source": [
    "import rasterio\n",
    "import numpy as np\n",
    "import matplotlib.pyplot as plt"
   ]
  },
  {
   "cell_type": "markdown",
   "id": "073d45a5-bcd0-46da-a013-638cbda23a1c",
   "metadata": {},
   "source": [
    "### Lidar Data Files\n",
    "\n",
    "The lidar data files for this tutorial are in the `course-materials/data/` directory. \n",
    "\n",
    "- **`course-materials/data/MartinAcres.dtm.tif`**\n",
    "- **`course-materials/data/MartinAcres.dsm.tif`**\n",
    "\n",
    "For Martin Acres there are two `.tif` files: a Digital Surface Model (DSM), and a Digital Terrain Model (DTM). The DSM contains the elevation of the tallest points in the area, which is often the tops of trees and buildings. The DTM contains the elevation of the ground. \n",
    "\n",
    "Each `.tif` file is a [GeoTIFF](https://www.ogc.org/standard/geotiff/) file, which adds georeferenced metadata to the image data. Each pixel in each band of the raster image represents a data value referenced to a specific geographic location. The file's metadata includes all the information about the coordinate system, map projection, and units that are needed to spatially reference the elevation data.\n",
    "\n",
    "<img src=\"./images/DSM_DTMcropped.png\" alt=\"DSM DTM\" width=\"500\"/>\n",
    "\n",
    "Image from [\"What is a CHM, DSM and DTM? About Gridded, Raster LiDAR Data\" by Leah A. Wasser](https://www.neonscience.org/resources/learning-hub/tutorials/chm-dsm-dtm).\n",
    "\n",
    "\n",
    "\n",
    "The following cell opens and reads the DTM and DSM files. It also sets variables with the boundary coordinates of the `.tif` files."
   ]
  },
  {
   "cell_type": "code",
   "execution_count": null,
   "id": "8597ccb4-8995-4dec-b707-57912ab7f0e5",
   "metadata": {},
   "outputs": [],
   "source": [
    "## get Digital Terrain Model\n",
    "dataset_terrain = rasterio.open(\"./data/MartinAcres.dtm.tif\")\n",
    "## get Digital Surface Model\n",
    "dataset_surface = rasterio.open(\"./data/MartinAcres.dsm.tif\")\n",
    "\n",
    "## read the elevation layer\n",
    "band1_terrain = dataset_terrain.read(1)\n",
    "band1_surface = dataset_surface.read(1)\n",
    "\n",
    "## dataset_terrain and dataset_surface uses EPSG:32613 coordinate system, unit is in meters\n",
    "## print the bounds of the dataset\n",
    "print(\"The bounds of the lidar dataset. In meters:\\n \", dataset_terrain.bounds) \n",
    "\n",
    "## lidar boundries in meters (EPSG:32613)\n",
    "left, bottom, right, top = dataset_terrain.bounds\n",
    "\n",
    "## lidar boundries in Lat, Long coordinates\n",
    "## EPSG 32613 converted to EPSG:4326 (used in GPS) with https://epsg.io/transform#s_srs=32613&t_srs=4326&x=NaN&y=NaN\n",
    "left_deg, bottom_deg, right_deg, top_deg = (-105.2869255, 39.9747967, -105.2343079, 40.0019534)\n",
    "print(\"The bounds of the lidar dataset. In lat/long coordinates:\\n \", left_deg, bottom_deg, right_deg, top_deg) \n",
    "\n",
    "## For converting lat and long degrees into meters (only used in small distances)\n",
    "meters_per_lat = 111319.49 \n",
    "meters_per_long = 85263.24 ## only valid at latitudes of 40 degrees"
   ]
  },
  {
   "cell_type": "markdown",
   "id": "0982ea97-f154-4093-b30a-c01a7339fabc",
   "metadata": {},
   "source": [
    "### Visualize MartinAcres.dtm.tif and MartinAcres.dsm.tif\n",
    "\n",
    "Now that we've loaded the raster data for Martin Acres, let's visualize the terrain and surface elevations in the area. We can do this by passing the raster data to Matplotlib, the same plotting library we've already used.\n",
    "\n",
    "The visualization of the digital terrain model shows large-scale terrain variation from the Martin Acres area into the foothills of the Rocky Mountains. The visualization of the digital surface model further resolves surface structures, such that features like roads and buildings become visible on top of the terrain variations."
   ]
  },
  {
   "cell_type": "code",
   "execution_count": null,
   "id": "faa05922-3b71-4c0c-849e-046ee44da704",
   "metadata": {},
   "outputs": [],
   "source": [
    "plt.figure(figsize=(10,10))\n",
    "plt.title(\"Elevation Heatmap of MartinAcres.dtm.tif (Terrain)\")\n",
    "plt.xlabel(\"Meters\")\n",
    "plt.ylabel(\"Meters\")\n",
    "dtm_plt = plt.imshow(band1_terrain, cmap='pink')\n",
    "cbar = plt.colorbar(dtm_plt, fraction=0.03)\n",
    "cbar.set_label('Elevation (meters)')\n",
    "plt.show()"
   ]
  },
  {
   "cell_type": "code",
   "execution_count": null,
   "id": "778b9985-17ec-4466-958e-8a83e92e2e75",
   "metadata": {},
   "outputs": [],
   "source": [
    "plt.figure(figsize=(10,10))\n",
    "plt.title(\"Elevation Heatmap of MartinAcres.dsm.tif (Surface)\")\n",
    "plt.xlabel(\"Meters\")\n",
    "plt.ylabel(\"Meters\")\n",
    "dtm_plt = plt.imshow(band1_surface, cmap='pink')\n",
    "cbar = plt.colorbar(dtm_plt, fraction=0.03)\n",
    "cbar.set_label('Elevation (meters)')\n",
    "plt.show()"
   ]
  },
  {
   "cell_type": "markdown",
   "id": "44320f42-8a14-49c4-8bcf-cb50da009080",
   "metadata": {},
   "source": [
    "### Find the _Ground_ and _Clutter_ elevations at the center of Martin Acres\n",
    "\n",
    "To do this, we define two helpful functions. The first, `convert_gps_to_meters`, produces coordinate values referenced to the raster data origin point, in meters, from a latitude/longitude pair. Next, the `get_elev` function takes a latitude and longitude coordinate pair, as well as raster data, and retrieves the elevation at the specified location from the provided raster data (terrain or surface)."
   ]
  },
  {
   "cell_type": "code",
   "execution_count": null,
   "id": "c3c6b26b-d112-4f0f-bd97-600e7fe67c8b",
   "metadata": {},
   "outputs": [],
   "source": [
    "def convert_gps_to_meters(lat: float, long: float):\n",
    "    \"\"\"Convert a (lat, lon) coordinate pair to meters-based coordinate pair\"\"\"\n",
    "    # top_deg and left_deg are raster data boundaries defined above\n",
    "    lat_dif = top_deg - lat\n",
    "    long_dif = long - left_deg\n",
    "    # Get meters-based coordinates, referenced to raster data origin\n",
    "    vert_dif_m = lat_dif * meters_per_lat\n",
    "    horz_dif_m = long_dif * meters_per_long\n",
    "    return (vert_dif_m, horz_dif_m)\n",
    "\n",
    "\n",
    "def get_elev(lat: float, long: float, lidar_model: rasterio.io.DatasetReader, lidar_elev_band: np.ndarray):\n",
    "    \"\"\"Get the elevation from the specified lidar dataset for a given (lat, lon) coordinate\n",
    "    \n",
    "    :param lat: Latitude of the desired elevation data, in degrees\n",
    "    :param long: Longitude of the desired elevation data, in degrees\n",
    "    :param lidar_model: Lidar dataset loaded with rasterio.open()\n",
    "    :param lidar_elev_band: Lidar data array, loaded with rasterio.io.DatasetReader.read()\n",
    "    \"\"\"\n",
    "    vert_dif_m, horz_dif_m = convert_gps_to_meters(lat, long)\n",
    "    row, col = lidar_model.index(left + horz_dif_m, top - vert_dif_m) ## get the row and colomn where the elevation is stored\n",
    "    elev = lidar_elev_band[row][col] ## retrieve the elevation\n",
    "    return elev"
   ]
  },
  {
   "cell_type": "markdown",
   "id": "527b7ecb",
   "metadata": {},
   "source": [
    "Now we can use these functions to retrieve elevation data at a point we choose:\n",
    "\n",
    "__Martin Acres center__: <br/>\n",
    "Latitude = 39.9916 <br/>\n",
    "Longitude = -105.2510\n",
    "\n",
    "We can also define and calculate the \"clutter height\" as the difference between the surface and terrain elevations at a given location. "
   ]
  },
  {
   "cell_type": "code",
   "execution_count": null,
   "id": "f9b568d7-afc2-4099-aee4-51a1a14ba6d7",
   "metadata": {},
   "outputs": [],
   "source": [
    "## set Martin Acres center location\n",
    "ma_center = (39.9916, -105.2510)\n",
    "print(f\"Martin Acres center {ma_center}:\")\n",
    "\n",
    "## find the terrain elevation\n",
    "terrain_elev = get_elev(ma_center[0], ma_center[1], dataset_terrain, band1_terrain)\n",
    "print(f\"The ground elevation is {terrain_elev:.1f} meters\")\n",
    "\n",
    "## find the surface elevation\n",
    "surface_elev = get_elev(ma_center[0], ma_center[1], dataset_surface, band1_surface)\n",
    "print(f\"The surface elevation is {surface_elev:.1f} meters\")\n",
    "\n",
    "## find the clutter height above the surface\n",
    "clutter_height = surface_elev - terrain_elev\n",
    "print(f\"The clutter height is {clutter_height:.2f} meters\")"
   ]
  },
  {
   "cell_type": "markdown",
   "id": "7063a5f8-a3f7-4bd3-8f99-4c3527b336c4",
   "metadata": {},
   "source": [
    "### Take Clutter Height Samples\n",
    "\n",
    "Let's get more clutter height data in the Martin Acres neighborhood. Below, we generate 1000 random locations within 500 meters of the chosen \"center point\" of the Martin Acres neighborhood, then find the clutter height at each point. From here onwards, we will only consider a given location to have clutter if the calculated \"clutter height\" exceeds 2 meters. Finally, we will plot the results on a map."
   ]
  },
  {
   "cell_type": "code",
   "execution_count": null,
   "id": "e0ac45fc-6553-4f64-8108-184e6affde1d",
   "metadata": {},
   "outputs": [],
   "source": [
    "## convert chosen center location from lat/long to meters\n",
    "ma_center_meters = convert_gps_to_meters(ma_center[0], ma_center[1])\n",
    "\n",
    "print(f\"Center Point is at (x, y) = ({ma_center_meters[1]:.2f}, {ma_center_meters[0]:.2f}) (meters).\")\n",
    "print(\"The origin is the top left corner of the map.\")\n"
   ]
  },
  {
   "cell_type": "code",
   "execution_count": null,
   "id": "75c0e380-f7d4-4d99-ae95-7990ec15dbaa",
   "metadata": {},
   "outputs": [],
   "source": [
    "## generate 1000 random x,y locations within 1 km the Martin Acres center\n",
    "num_rands = 1000\n",
    "radius = 500  # meters\n",
    "x_random = np.random.randint(ma_center_meters[1]-radius, ma_center_meters[1]+radius, num_rands)\n",
    "y_random = np.random.randint(ma_center_meters[0]-radius, ma_center_meters[0]+radius, num_rands)\n",
    "\n",
    "## create lists to hold the locations and clutter heights that are within 500 meters of the Example Point\n",
    "within_500m_x = []\n",
    "within_500m_y = []\n",
    "clutter_height_ls = []\n",
    "\n",
    "## loop through all of the random points\n",
    "for i in range(len(x_random)):\n",
    "    ## find distance from center point to a random point\n",
    "    distance = np.sqrt(np.square(ma_center_meters[1]-x_random[i]) + np.square(ma_center_meters[0]-y_random[i]))\n",
    "    \n",
    "    ## if distance is within the specified radius, find the clutter height at that location\n",
    "    if distance < radius:\n",
    "        ground_elev = band1_terrain[y_random[i]][x_random[i]]\n",
    "        clutter_elev = band1_surface[y_random[i]][x_random[i]]\n",
    "        clutter_height = clutter_elev - ground_elev\n",
    "        ## \"clutter height\" must be higher than 2 meters to be considered\n",
    "        if clutter_height > 2:\n",
    "            clutter_height_ls.append(clutter_height)\n",
    "            within_500m_x.append(x_random[i])\n",
    "            within_500m_y.append(y_random[i])\n",
    "\n",
    "## Plotting\n",
    "\n",
    "## read in Martin Acres map image\n",
    "##  image from www.openstreetmap.org\n",
    "martin_acres_map = plt.imread('./images/martin_acres_map.png')\n",
    "\n",
    "## set the map bounding box (in meters)\n",
    "BBox = (0,  right-left,      \n",
    "        top-bottom,  0)\n",
    "\n",
    "fig, ax = plt.subplots(figsize=(10,10))\n",
    "\n",
    "# Plot base map\n",
    "ax.imshow(martin_acres_map, zorder=0, extent = BBox, aspect= 'equal')\n",
    "\n",
    "# Plot randomly-sampled points with color indicating clutter height\n",
    "ex1 = ax.scatter(within_500m_x, within_500m_y, zorder=1, c=clutter_height_ls, cmap='Blues', alpha=1.0, s=25)\n",
    "plt.colorbar(ex1, fraction=0.03, label=\"Clutter Height (meters)\")\n",
    "\n",
    "# Plot chosen centerpoint of Martin Acres\n",
    "ax.scatter(*ma_center_meters[::-1], label=\"Martin Acres Center\", marker=\"^\", c=\"r\", s=100, edgecolors=\"k\")\n",
    "\n",
    "ax.set_title('Randomly Sampled Clutter Heights\\n within 500 meters of the center')\n",
    "ax.set_xlabel(\"Meters\")\n",
    "ax.set_ylabel(\"Meters\")\n",
    "ax.set_xlim(BBox[0]+(BBox[1]/3), BBox[1])\n",
    "ax.set_ylim(BBox[2]-(BBox[2]/3), BBox[3])\n",
    "ax.legend()\n",
    "plt.show()\n"
   ]
  },
  {
   "cell_type": "markdown",
   "id": "69d04c65-827b-4419-b7f6-9977aedd9b80",
   "metadata": {},
   "source": [
    "### Do Clutter Height Sampling With A Lot More Random Locations (~500,000 Samples)\n",
    "\n",
    "Same code as previous cell, starting with 1 million random locations before narrowing down to points:\n",
    "  * Within 500 meters of Martin Acres center.\n",
    "  * Having at least 2 meters of clutter height."
   ]
  },
  {
   "cell_type": "code",
   "execution_count": null,
   "id": "552425a5-6e3f-4417-81c0-6d874cec6a99",
   "metadata": {},
   "outputs": [],
   "source": [
    "num_rands = 1000000\n",
    "radius = 500\n",
    "\n",
    "## generate random x,y locations\n",
    "x_random = np.random.randint(ma_center_meters[1]-radius, ma_center_meters[1]+radius, num_rands)\n",
    "y_random = np.random.randint(ma_center_meters[0]-radius, ma_center_meters[0]+radius, num_rands)\n",
    "\n",
    "## create lists to hold the locations and clutter heights that are within 500 meters of the center\n",
    "within_500m_x = []\n",
    "within_500m_y = []\n",
    "clutter_height_ls = []\n",
    "\n",
    "## loop through all of the random points\n",
    "for i in range(len(x_random)):\n",
    "    ## print the progress\n",
    "    if i % 10000 == 0 or i == len(x_random) - 1:\n",
    "        print(f\"\\rProgress {i+1}/{num_rands}\", end='')\n",
    "        \n",
    "    ## find distance from Example Point to a random point\n",
    "    distance = np.sqrt(np.square(ma_center_meters[1]-x_random[i]) + np.square(ma_center_meters[0]-y_random[i]))\n",
    "    \n",
    "    ## if distance is within 500 meters, find the clutter height at that location\n",
    "    if distance < radius:\n",
    "        ground_elev = band1_terrain[y_random[i]][x_random[i]]\n",
    "        clutter_elev = band1_surface[y_random[i]][x_random[i]]\n",
    "        clutter_height = clutter_elev - ground_elev\n",
    "\n",
    "        ## \"clutter height\" must be higher than 2 meters to be considered\n",
    "        if clutter_height > 2:\n",
    "            clutter_height_ls.append(clutter_height)\n",
    "            within_500m_x.append(x_random[i])\n",
    "            within_500m_y.append(y_random[i])\n",
    "\n",
    "print(f\"\\n{len(clutter_height_ls)} successful clutter samples\")"
   ]
  },
  {
   "cell_type": "markdown",
   "id": "6caa3b06-ea09-4dad-94b7-9e46b72f9be0",
   "metadata": {},
   "source": [
    "### Plot a Histogram of the Clutter Heights Sampled in Martin Acres\n",
    "\n",
    "We now have hundreds of thousands of clutter height datapoints within the analysis region, a circle of radius 500 meters surrounding our chosen center point. Let's view the distribution of clutter heights within this area."
   ]
  },
  {
   "cell_type": "code",
   "execution_count": null,
   "id": "d1b383ed-9fb8-4abb-a3e6-0a8d36f58457",
   "metadata": {},
   "outputs": [],
   "source": [
    "# the histogram of the data\n",
    "fig, ax = plt.subplots(figsize=(10, 5))\n",
    "n, bins, patches = ax.hist(clutter_height_ls, np.linspace(2,35,34), density=True, edgecolor=\"k\", facecolor='g')\n",
    "\n",
    "ax.set_xlabel('Clutter Height (meters)')\n",
    "ax.set_ylabel('Probability')\n",
    "ax.set_title('Histogram of Clutter Heights of Martin Acres')\n",
    "ax.grid(True, which=\"both\", axis=\"both\", alpha=0.3)\n",
    "ax.minorticks_on()\n",
    "ax.set_axisbelow(True)\n",
    "plt.show()"
   ]
  },
  {
   "cell_type": "markdown",
   "id": "95d7f87d-cde0-492a-9db2-867f4459e0f4",
   "metadata": {},
   "source": [
    "The most common clutter height in this region is between 3 to 5 meters. Print the mean, median, and standard deviation of the Martin Acres clutter."
   ]
  },
  {
   "cell_type": "code",
   "execution_count": null,
   "id": "a00a65ee-6c10-4116-92b3-139ab9352215",
   "metadata": {},
   "outputs": [],
   "source": [
    "mean_clutter_height = np.mean(clutter_height_ls)\n",
    "median_clutter_height = np.median(clutter_height_ls)\n",
    "std_clutter_height = np.std(clutter_height_ls)\n",
    "print(\"Martin Acres Clutter Heights:\")\n",
    "print(f\" Mean = {mean_clutter_height:.1f} meters\")\n",
    "print(f\" Median = {median_clutter_height:.1f} meters\")\n",
    "print(f\" Standard Deviation = {std_clutter_height:.1f} meters\")"
   ]
  },
  {
   "cell_type": "markdown",
   "id": "14c7d2f3-3ff6-4a2c-889d-772a4fe67006",
   "metadata": {},
   "source": [
    "Well done, you've found clutter statistics for the Martin Acres neighborhood using lidar data! In the next lesson you'll use these statistics to inform a clutter model.\n",
    "\n",
    "End of Lesson 2."
   ]
  }
 ],
 "metadata": {
  "kernelspec": {
   "display_name": "Python 3 (ipykernel)",
   "language": "python",
   "name": "python3"
  },
  "language_info": {
   "codemirror_mode": {
    "name": "ipython",
    "version": 3
   },
   "file_extension": ".py",
   "mimetype": "text/x-python",
   "name": "python",
   "nbconvert_exporter": "python",
   "pygments_lexer": "ipython3",
   "version": "3.9.19"
  }
 },
 "nbformat": 4,
 "nbformat_minor": 5
}
