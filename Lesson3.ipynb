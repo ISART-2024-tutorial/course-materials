{
 "cells": [
  {
   "cell_type": "markdown",
   "id": "40cb3121-0d7e-4953-a07d-f4c50bbba7e6",
   "metadata": {},
   "source": [
    "# Lesson 3 - Build a Clutter Model\n",
    "\n",
    "In this lesson you'll create a statistical propagation model to predict loss due to clutter in 3.5 GHz propagation measurements. To create the model you are given two measurement datasets from the Martin Acres neighborhood of Boulder, Colorado. They are located in the `course-materials/data/` directory. \n",
    "\n",
    "- **`course-materials/data/MartinAcresLow_3500.MartinAcres.csv`**\n",
    "- **`course-materials/data/MartinAcresHigh_3500.MartinAcres.csv`**\n",
    "\n",
    "<img src=\"./images/measurement_datasets.png\" alt=\"low and high datasets\" width=\"1200\"/>\n",
    "\n",
    "This image shows two datasets made with a 3.5 GHz continuous wave signal transmitted from two different locations: \"Low TX\", and \"High TX.\" The Low TX antenna is at approximately 1660 meters above sea level. The High TX antenna is at approximately 1800 meters above sea level. On the receiving end, mobile measurements were made in the Martin Acres neighborhood. The terrain of Martin Acres is approximately flat and we can assume that there are no terrain obstructions and only clutter obstructions (buildings and trees) between the RX and TX antennas.\n",
    "\n",
    "__In this lesson you will:__\n",
    "\n",
    "**1.** Load the measurement data and plot it on a map.\n",
    "\n",
    "**2.** Visualize the data: a) Cumulative Distribution and b) Path Distance vs Clutter Loss.\n",
    "\n",
    "**3.** Determine the _distance within clutter_ for each ray path.\n",
    "\n",
    "**4.** Fit a regression model to **predict clutter loss based on _distance within clutter_**.\n",
    "\n",
    "<br/>\n",
    "\n",
    "### Import the necessary Python libraries"
   ]
  },
  {
   "cell_type": "code",
   "execution_count": null,
   "id": "0f52c6c2-5808-40a3-b2e9-f70cb553944b",
   "metadata": {},
   "outputs": [],
   "source": [
    "import numpy as np\n",
    "import matplotlib.pyplot as plt\n",
    "import pandas as pd\n",
    "import rasterio\n",
    "from sklearn.linear_model import LinearRegression"
   ]
  },
  {
   "cell_type": "markdown",
   "id": "d1e52b4a-ca42-4196-bfcf-4e8ac6f9a650",
   "metadata": {},
   "source": [
    "### Load Lesson 2 Lidar clutter statistics for Martin Acres\n",
    "  * Clutter height mean = 8 meters.\n",
    "  * Clutter height std. deviation = 4.5 meters."
   ]
  },
  {
   "cell_type": "code",
   "execution_count": null,
   "id": "a00a65ee-6c10-4116-92b3-139ab9352215",
   "metadata": {},
   "outputs": [],
   "source": [
    "clutter_height_mean = 8 ## meters\n",
    "clutter_height_std = 4.5 ## meters"
   ]
  },
  {
   "cell_type": "markdown",
   "id": "7dbe7cc6-c56e-4373-a92a-3588bdbb7574",
   "metadata": {},
   "source": [
    "### Bring in Lidar data and static variables"
   ]
  },
  {
   "cell_type": "code",
   "execution_count": null,
   "id": "11463245-ffcd-420b-90e3-e5e17a9b276e",
   "metadata": {},
   "outputs": [],
   "source": [
    "## bring in lidar data (same as lesson 2)\n",
    "dataset_terrain = rasterio.open(\"./data/MartinAcres.dtm.tif\")\n",
    "dataset_surface = rasterio.open(\"./data/MartinAcres.dsm.tif\")\n",
    "band1_terrain = dataset_terrain.read(1)\n",
    "band1_surface = dataset_surface.read(1)\n",
    "## set map and lidar bounds (same as lesson 2)\n",
    "left, bottom, right, top = dataset_terrain.bounds\n",
    "left_deg, bottom_deg, right_deg, top_deg = (-105.2869255, 39.9747967, -105.2343079, 40.0019534)\n",
    "## for converting lat and long degrees into meters (same as lesson 2)\n",
    "meters_per_lat = 111319.49 \n",
    "meters_per_long = 85263.24 ## only valid at latitudes of 40 degrees"
   ]
  },
  {
   "cell_type": "markdown",
   "id": "222a029d-f9c8-4791-a635-715786328443",
   "metadata": {},
   "source": [
    "### Load the measurement datasets\n",
    "\n",
    "The measurement datasets are stored in CSV files and we can load them into [Pandas DataFrames](https://www.datacamp.com/tutorial/pandas-tutorial-dataframe-python). DataFrames are a row/column data structure that allow for efficient manipulation and analysis."
   ]
  },
  {
   "cell_type": "code",
   "execution_count": null,
   "id": "21d3cc64-1ded-4649-b9d8-727e6f3ca0cb",
   "metadata": {},
   "outputs": [],
   "source": [
    "low_file_name = \"./data/MartinAcresLow_3500.MartinAcres.csv\"\n",
    "high_file_name = \"./data/MartinAcresHigh_3500.MartinAcres.csv\"\n",
    "low_df = pd.read_csv(low_file_name)\n",
    "high_df = pd.read_csv(high_file_name)"
   ]
  },
  {
   "cell_type": "markdown",
   "id": "0e1c2614-ba8f-49b0-977e-8a383ed77ba2",
   "metadata": {},
   "source": [
    "### Look at the first 5 rows of each DataFrame\n",
    "\n",
    "We can see that each row represents a measured data point, and the columns indicate a variety of available values for each point."
   ]
  },
  {
   "cell_type": "code",
   "execution_count": null,
   "id": "ef6563d3-d3fa-4a75-a029-376795164367",
   "metadata": {},
   "outputs": [],
   "source": [
    "high_df.head(5)"
   ]
  },
  {
   "cell_type": "code",
   "execution_count": null,
   "id": "300c7e08-aa36-4b23-9830-c51b5a5a4c1a",
   "metadata": {},
   "outputs": [],
   "source": [
    "low_df.head(5)"
   ]
  },
  {
   "cell_type": "markdown",
   "id": "ffa157db-34a7-416d-9ad3-f9b4ee0b42ef",
   "metadata": {},
   "source": [
    "### Column definitions \n",
    "\n",
    "| Column          | Definition                         |\n",
    "| --------------- |------------------------------------|\n",
    "| `ID`            | Identifier                         |\n",
    "| `TxLat`         | Tx Latitude                        |\n",
    "| `TxLon`         | Tx Longitude                       |\n",
    "| `RxLat`         | Rx Latitude                        |\n",
    "| `RxLon`         | Rx Longitude                       |\n",
    "| `h_tx__meter`   | Tx Antenna Height                  |\n",
    "| `h_rx__meter`   | Rx Antenna Height                  |\n",
    "| `f__mhz`        | Frequency                          |\n",
    "| `d__km`         | Distance TX to RX                  |\n",
    "| `d_3d__km`      | 3D Distance TX to RX               |\n",
    "| `L_meas__db`    | Measured Loss                      |\n",
    "| `L_fs__db`      | Free-Space Loss                    |\n",
    "| `L_excess__db`  | Clutter Loss                       |\n",
    "\n",
    "\n",
    "Here, the \"clutter loss\" is defined as \"measure loss in excess of free space.\" We will use this definition throughout the rest of the notebook.\n",
    "`d_3d__km` considers the antenna altitudes when calculating the distance between the TX and RX. Low dataset only has `d__km` because there is very little difference from `d_3d__km`. "
   ]
  },
  {
   "cell_type": "markdown",
   "id": "deaa9013-451e-4f2c-a781-207dc01b0e83",
   "metadata": {},
   "source": [
    "### Add four new columns to the DataFrames\n",
    "\n",
    "We can add new columns to the existing DataFrames, to store the results of processing which are useful to our analysis. The DataFrame structure also allows for easy row-wise repetition of processing steps, as shown here using `.map()`\n",
    "\n",
    "Let's convert __`TxLat`, `TxLon`, `RxLat`, and `RxLon` to meters__ for ease of measuring and plotting. We will then add the computed values to the existing DataFrames as new columns."
   ]
  },
  {
   "cell_type": "code",
   "execution_count": null,
   "id": "e6f4e74a-75c1-4c3a-9708-52254f8b8923",
   "metadata": {},
   "outputs": [],
   "source": [
    "## functions to convert lat and long to meters\n",
    "def convert_lat_to_meters(lat):\n",
    "    lat_dif = top_deg - lat\n",
    "    vert_dif_m = lat_dif * meters_per_lat\n",
    "    return vert_dif_m\n",
    "\n",
    "def convert_long_to_meters(long):\n",
    "    long_dif = long - left_deg\n",
    "    horz_dif_m = long_dif * meters_per_long\n",
    "    return horz_dif_m\n",
    "\n",
    "## create new columns by mapping the conversion function to lat or long column\n",
    "low_df[\"RxX__meter\"] = low_df[\"RxLon\"].map(convert_long_to_meters)\n",
    "low_df[\"RxY__meter\"] = low_df[\"RxLat\"].map(convert_lat_to_meters)\n",
    "low_df[\"TxX__meter\"] = low_df[\"TxLon\"].map(convert_long_to_meters)\n",
    "low_df[\"TxY__meter\"] = low_df[\"TxLat\"].map(convert_lat_to_meters)"
   ]
  },
  {
   "cell_type": "markdown",
   "id": "041494ff-4adf-45f7-9f94-f57475fc8827",
   "metadata": {},
   "source": [
    "### Look at the new columns RxX__meter, RxY__meter, TxX__meter, TxY__meter"
   ]
  },
  {
   "cell_type": "code",
   "execution_count": null,
   "id": "07056ff3-9fcf-4eb6-8844-a2bcf5e81562",
   "metadata": {},
   "outputs": [],
   "source": [
    "low_df.head(5)"
   ]
  },
  {
   "cell_type": "code",
   "execution_count": null,
   "id": "7aa68824-4b5a-4d67-8267-54d8b7794ad5",
   "metadata": {},
   "outputs": [],
   "source": [
    "## do the same for the High dataframe\n",
    "high_df[\"RxX__meter\"] = high_df[\"RxLon\"].map(convert_long_to_meters)\n",
    "high_df[\"RxY__meter\"] = high_df[\"RxLat\"].map(convert_lat_to_meters)\n",
    "high_df[\"TxX__meter\"] = high_df[\"TxLon\"].map(convert_long_to_meters)\n",
    "high_df[\"TxY__meter\"] = high_df[\"TxLat\"].map(convert_lat_to_meters)"
   ]
  },
  {
   "cell_type": "code",
   "execution_count": null,
   "id": "a6d73154-1999-4c9d-85c8-6bf3a4d8e957",
   "metadata": {},
   "outputs": [],
   "source": [
    "high_df.head(5)"
   ]
  },
  {
   "cell_type": "markdown",
   "id": "f23b18d8-6682-4c92-9431-444d354d703c",
   "metadata": {},
   "source": [
    "### Plot the measurements on a map"
   ]
  },
  {
   "cell_type": "code",
   "execution_count": null,
   "id": "be8744cb-51a1-4f4f-b1fe-075308c1a7dd",
   "metadata": {},
   "outputs": [],
   "source": [
    "## read in Martin Acres map image\n",
    "##  image from www.openstreetmap.org\n",
    "martin_acres_map = plt.imread('./images/martin_acres_map.png')\n",
    "\n",
    "## set the map bounding box (in meters)\n",
    "BBox = (0,  right-left,      \n",
    "        top-bottom,  0)"
   ]
  },
  {
   "cell_type": "code",
   "execution_count": null,
   "id": "702aba6e-6d67-4656-b27d-412fa2f61fdb",
   "metadata": {},
   "outputs": [],
   "source": [
    "## make the Low plot\n",
    "fig, ax = plt.subplots(figsize=(10, 10))\n",
    "\n",
    "## plot the TX location\n",
    "ex2 = ax.scatter(low_df.iloc[0][\"TxX__meter\"],low_df.iloc[0][\"TxY__meter\"], zorder=2, alpha=1.0, c='r', s=50, label=\"Tx Location\")\n",
    "## plot the Clutter Losses \n",
    "ex1 = ax.scatter(low_df[\"RxX__meter\"], low_df[\"RxY__meter\"], zorder=1, c=low_df[\"L_excess__db\"], cmap='magma_r', alpha= 1.0, s=6, vmin=0, vmax=40)\n",
    "\n",
    "cbar = plt.colorbar(ex1, fraction=0.03, label=\"Excess Loss (dB)\")\n",
    "ax.set_title('Clutter Loss for Martin Acres Low Tx Location')\n",
    "ax.set_xlabel(\"Meters\")\n",
    "ax.set_ylabel(\"Meters\")\n",
    "ax.set_xlim(BBox[0]+(BBox[1]/3),BBox[1])\n",
    "ax.set_ylim(BBox[2]-(BBox[2]/3),BBox[3])\n",
    "ax.imshow(martin_acres_map, zorder=0, extent = BBox, aspect= 'equal')\n",
    "ax.legend()\n",
    "plt.show()"
   ]
  },
  {
   "cell_type": "code",
   "execution_count": null,
   "id": "e827dfad-d06e-4f74-9af3-e1aa9101e894",
   "metadata": {},
   "outputs": [],
   "source": [
    "## make the high plot\n",
    "fig, ax = plt.subplots(figsize=(10, 10))\n",
    "\n",
    "## plot the Tx location\n",
    "ex2 = ax.scatter(high_df.iloc[0][\"TxX__meter\"],high_df.iloc[0][\"TxY__meter\"], zorder=2, alpha=1.0, c='r', s=50, label=\"Tx Location\")\n",
    "## plot the Clutter Losses \n",
    "ex1 = ax.scatter(high_df[\"RxX__meter\"], high_df[\"RxY__meter\"], zorder=1, c=high_df[\"L_excess__db\"], cmap='magma_r', alpha= 1.0, s=6, vmin=0, vmax=40)\n",
    "\n",
    "cbar = plt.colorbar(ex1, fraction=0.03, label=\"Excess Loss (dB)\")\n",
    "ax.set_title('Clutter Loss for Martin Acres High Tx Location')\n",
    "ax.set_xlabel(\"Meters\")\n",
    "ax.set_ylabel(\"Meters\")\n",
    "ax.set_xlim(BBox[0]+(BBox[1]/5),BBox[1])\n",
    "ax.set_ylim(BBox[2]-(BBox[2]/3),BBox[3])\n",
    "ax.imshow(martin_acres_map, zorder=0, extent = BBox, aspect= 'equal')\n",
    "ax.legend()\n",
    "plt.show()"
   ]
  },
  {
   "cell_type": "markdown",
   "id": "6dac747f-275c-41aa-b89f-557749c41bf4",
   "metadata": {},
   "source": [
    "### Plot the Cumulative Distribution Function (CDF) of the Clutter Loss for High and Low"
   ]
  },
  {
   "cell_type": "code",
   "execution_count": null,
   "id": "724fd612-efa7-483b-b11a-c791de56d051",
   "metadata": {},
   "outputs": [],
   "source": [
    "low_N = len(low_df)\n",
    "low_x = np.sort(low_df[\"L_excess__db\"])\n",
    "low_y = np.arange(low_N) / float(low_N)\n",
    "\n",
    "## plot the CDF\n",
    "fig, ax = plt.subplots(figsize=(11, 6))\n",
    "ax.plot(low_x, low_y, label='Low TX', linewidth=3)\n",
    "\n",
    "high_N = len(high_df)\n",
    "high_x = np.sort(high_df[\"L_excess__db\"])\n",
    "high_y = np.arange(high_N) / float(high_N)\n",
    "## plot the CDF\n",
    "ax.plot(high_x, high_y, label='High TX', linewidth=3)\n",
    "\n",
    "ax.set_xlabel('Clutter Loss (dB)')\n",
    "ax.set_ylabel('Probability')\n",
    "ax.set_title('Clutter Loss CDF')\n",
    "ax.grid(True, which=\"both\", axis=\"both\", alpha=0.3)\n",
    "ax.minorticks_on()\n",
    "ax.legend(fontsize=14)\n",
    "plt.show()"
   ]
  },
  {
   "cell_type": "markdown",
   "id": "253635d7-9277-47b8-8492-1b4ae2fcba79",
   "metadata": {},
   "source": [
    "The clutter loss CDF shows that more clutter loss is observed in the Low Tx measurements, compared to the High Tx measurements. \n",
    "\n",
    "### Plot the Path Distance vs Clutter Loss"
   ]
  },
  {
   "cell_type": "code",
   "execution_count": null,
   "id": "6b6257da-233a-4ac0-a507-eede6b569bc7",
   "metadata": {},
   "outputs": [],
   "source": [
    "fig, ax = plt.subplots(figsize=(11, 6))\n",
    "ax.scatter(low_df[\"d__km\"], low_df[\"L_excess__db\"], label='Low TX', s=12)\n",
    "ax.scatter(high_df[\"d__km\"], high_df[\"L_excess__db\"], label='High TX', s=12)\n",
    "\n",
    "ax.set_xlabel('Distance (km)')\n",
    "ax.set_ylabel('Clutter Loss (dB)')\n",
    "ax.set_title('Path Distance vs Clutter Loss')\n",
    "\n",
    "ax.legend(fontsize=14)\n",
    "ax.grid(True, which=\"both\", axis=\"both\", alpha=0.3)\n",
    "ax.minorticks_on()\n",
    "plt.show()"
   ]
  },
  {
   "cell_type": "markdown",
   "id": "32ffa4e8-cd48-4450-b4d9-f70e8ccbd57f",
   "metadata": {},
   "source": [
    "The clutter loss versus path distance plot above shows there is no obvious global correlation between the two. Instead, there seems to be a relationship depending on the transmitter height.\n",
    "\n",
    "Because of the relationship between transmitter height (high vs low) and the clutter loss, let's calculate the _Rx elevation angle_ for all the measurements in both datasets. \n",
    "\n",
    "<img src=\"./images/rx_elev_angle.png\" alt=\"RX elevation angle\" width=\"600\"/>\n",
    "\n",
    "### Add an \"_Rx elevation angle_\" column to high and low DataFrames"
   ]
  },
  {
   "cell_type": "code",
   "execution_count": null,
   "id": "301feaad-df66-47ea-9234-9f1dd152fc18",
   "metadata": {},
   "outputs": [],
   "source": [
    "## use lidar to add antenna altitude to the dataframes for TX and RX antenna\n",
    "def antenna_altitude(x: float, y: float, antenna_height: float, lidar_elev_band: np.ndarray):\n",
    "    \"\"\"Calculate the antenna altitude using lidar data\n",
    "    \n",
    "    :param x: Antenna location, column in lidar_elev_band\n",
    "    :param y: Antenna location, row in lidar_elev_band\n",
    "    :param antenna_height: Antenna height above ground level (meters)\n",
    "    :param lidar_elev_band: Lidar data array, loaded with rasterio.io.DatasetReader.read()\n",
    "    \"\"\"\n",
    "    elev = lidar_elev_band[int(y)][int(x)]\n",
    "    return elev + antenna_height\n",
    "\n",
    "for df in [low_df, high_df]:\n",
    "    df[\"alt_rx__meter\"] = df.apply(lambda row: antenna_altitude(row.RxX__meter, row.RxY__meter, row.h_rx__meter, band1_terrain), axis=1)\n",
    "    df[\"alt_tx__meter\"] = df.apply(lambda row: antenna_altitude(row.TxX__meter, row.TxY__meter, row.h_tx__meter, band1_terrain), axis=1)\n",
    "\n",
    "def rx_elev_angle(alt_rx, alt_tx, d):\n",
    "    \"\"\"Get the RX elevation angle (in degrees)\n",
    "    \n",
    "    :param alt_rx: Altitude of RX (meters)\n",
    "    :param alt_tx: Altitude of TX (meters)\n",
    "    :param d: Ray distance between TX and TX (km)\n",
    "    \"\"\"\n",
    "    soh = np.abs(alt_tx - alt_rx) / (d*1000)\n",
    "    angle_deg = np.degrees(np.arcsin(soh)) \n",
    "    return angle_deg\n",
    "\n",
    "## calculate the rx elevation angle and add a new column to the dataframe\n",
    "# here we will use d_3d__km for the distance in the High-TX case, but use d__km as the distance in the low-TX case\n",
    "high_df[\"rx_angle__deg\"] = high_df.apply(lambda row: rx_elev_angle(row.alt_rx__meter, row.alt_tx__meter, row.d_3d__km), axis=1)\n",
    "low_df[\"rx_angle__deg\"] = low_df.apply(lambda row: rx_elev_angle(row.alt_rx__meter, row.alt_tx__meter, row.d__km), axis=1)"
   ]
  },
  {
   "cell_type": "markdown",
   "id": "5ec91547-9a40-4f81-95cc-c221895fee9d",
   "metadata": {},
   "source": [
    "### Summary Statistics for RX Elevation Angle"
   ]
  },
  {
   "cell_type": "code",
   "execution_count": null,
   "id": "5c431237-e274-4914-a8c1-d9d8dd88c480",
   "metadata": {},
   "outputs": [],
   "source": [
    "print(\"\\t\\t\\t\\t\\tMin\\tMax\\tMean\\tSt Dev\")\n",
    "\n",
    "print(\"Low - RX elevation angle (deg)\\t\\t{:.2f}\\t{:.2f}\\t{:.2f}\\t{:.2f}\".format(np.min(low_df[\"rx_angle__deg\"]),\n",
    "                                                                                     np.max(low_df[\"rx_angle__deg\"]),\n",
    "                                                                                     np.mean(low_df[\"rx_angle__deg\"]),\n",
    "                                                                                     np.std(low_df[\"rx_angle__deg\"])))\n",
    "\n",
    "print(\"High - RX elevation angle (deg)\\t\\t{:.2f}\\t{:.2f}\\t{:.2f}\\t{:.2f}\".format(np.min(high_df[\"rx_angle__deg\"]),\n",
    "                                                                                     np.max(high_df[\"rx_angle__deg\"]),\n",
    "                                                                                     np.mean(high_df[\"rx_angle__deg\"]),\n",
    "                                                                                     np.std(high_df[\"rx_angle__deg\"])))"
   ]
  },
  {
   "cell_type": "markdown",
   "id": "bc7aabd7-08a1-41ec-bc16-dde644a0f964",
   "metadata": {},
   "source": [
    "The Low TX dataset has an average Rx elevation angle of 1 degree. The High TX dataset has an average RX elevation angle of 4 degrees. This difference of 3 degrees seems correlated with an additional 10 dB of clutter loss in the Low TX case, shown in the CDF plotted earlier.\n",
    "\n",
    "### Plot Rx elevation angle vs Clutter loss"
   ]
  },
  {
   "cell_type": "code",
   "execution_count": null,
   "id": "1fc4c465-619e-4e5f-8b98-81085acb93df",
   "metadata": {},
   "outputs": [],
   "source": [
    "fig, ax = plt.subplots(figsize=(11, 6))\n",
    "plt.scatter(low_df[\"rx_angle__deg\"], low_df[\"L_excess__db\"], label='Low TX', s=10)\n",
    "plt.scatter(high_df[\"rx_angle__deg\"], high_df[\"L_excess__db\"], label='High TX', s=10)\n",
    "\n",
    "plt.xlabel('Rx Elevation Angle (deg)')\n",
    "plt.ylabel('Clutter Loss (dB)')\n",
    "plt.title('Rx Elevation Angle vs Clutter Loss')\n",
    "\n",
    "plt.legend(fontsize=14)\n",
    "plt.gca().yaxis.grid(True)\n",
    "plt.show()"
   ]
  },
  {
   "cell_type": "markdown",
   "id": "9ab857ae-f0d4-440c-8a22-4a3d55e11c04",
   "metadata": {},
   "source": [
    "Despite a few obvious outliers, there seems to be some relationship between Rx elevation angle and clutter loss. We leave it up to you to investigate possible explanations for the outliers. Let's continue investigating the Rx elevation angle and clutter loss trend by calculating 3D clutter distance.\n",
    "\n",
    "### Develop the 3D Clutter Distance Model $r_c$\n",
    "\n",
    "In this model we assume that clutter is an end-point phenomenon, only at the RX. We also assume that west of Martin Acres, the clutter ends, and that propagation is through free space (with the road Broadway acting as the western boundary to the clutter region). Therefore, the clutter will be modeled as a __slab__ resting atop the terrain in the Martin Acres neighborhood. The slab height $h_c$ will be determined based on the clutter statistics gathered in lesson 2. The assumptions and construction of this modeling approach are shown below:\n",
    "\n",
    "<img src=\"./images/clutter_slab.png\" alt=\"Clutter Slab\" width=\"800\"/>\n",
    "\n",
    "The Martin Acres clutter slab ends at Broadway, defined as the line that passes through the following two points. You'll plot this line in the next code cell. \n",
    " * bway_north = (39.99741,-105.26273)\n",
    " * bway_south = (39.98587,-105.25248)\n",
    "\n",
    "The slab height $h_c$ is based on the statistics we gathered in lesson 2. The mean clutter height $\\mu_c$ is 8 meters and the standard deviation $\\sigma_c$ is 4.5 meters. Let's define $h_c$ as: $$h_c = \\mu_c + 2\\sigma_c$$ $$h_c = \\text{17 meters}$$ \n",
    "We chose this definition of $h_c$ after regression analysis showed that it approximately minimizes the prediction error of the model you're about to create for the Martin Acres dataset. We encourage you to play with different values of $h_c$ to see how it affects the model and the accuracy of the predictions. We further encourage you to think about the generalizability of such a construction to other propagation environments, which may or may not be similar to Martin Acres in a variety of ways.\n",
    "\n",
    "### Calculate 3D Clutter Distance\n",
    "\n",
    "We define the 3D Clutter Distance as the distance traversed by the direct ray from the TX _through the clutter slab_ to the RX within the clutter environment. There are two scenarios you must consider when finding the 3D Clutter Distance: \n",
    "\n",
    "**1.** Find the distance within the clutter if the path exits out of the top of the clutter slab. Defined as $h_c / \\sin(\\theta_\\text{rx})$ where $\\theta_\\text{rx}$ is the RX elevation angle.\n",
    "\n",
    "<img src=\"./images/3d_dist_top.png\" alt=\"RX elevation angle\" width=\"800\"/>\n",
    "\n",
    "**2.** Find the distance within the clutter if the path exits out of the side of the clutter slab, defined as $d_c$. This can be found by performing the intersection of the ray path with Broadway. \n",
    "\n",
    "<img src=\"./images/3d_dist_side.png\" alt=\"RX elevation angle\" width=\"800\"/>\n",
    "\n",
    "Ultimately, you will determine the 3D Clutter Distance, $r_c$, by finding the distance within the clutter for both scenarios. Then finding the minimum of both scenarios is an easy way to determine which scenario applies.\n",
    "\n",
    "$$r_c = \\text{MIN} (d_c , \\frac{h_c}{\\sin\\theta_\\text{rx}})$$\n",
    "\n",
    "\n",
    "### Start by plotting the Broadway boundary of the slab"
   ]
  },
  {
   "cell_type": "code",
   "execution_count": null,
   "id": "e8217a44-d43f-4ffd-84a6-ff3e446753da",
   "metadata": {},
   "outputs": [],
   "source": [
    "def convert_gps_to_meters(lat, long):\n",
    "    lat_dif = top_deg - lat\n",
    "    long_dif = long - left_deg\n",
    "    vert_dif_m = lat_dif * meters_per_lat\n",
    "    horz_dif_m = long_dif * meters_per_long\n",
    "    return (vert_dif_m, horz_dif_m)\n",
    "\n",
    "bway_n = convert_gps_to_meters(39.99741,-105.26273)\n",
    "bway_s = convert_gps_to_meters(39.98587,-105.25248)\n",
    "\n",
    "## make the plot\n",
    "fig, ax = plt.subplots(figsize=(10, 10))\n",
    "ex3 = ax.plot([bway_n[1],bway_s[1]], [bway_n[0],bway_s[0]], zorder=3, alpha=1.0, c='b')\n",
    "ax.set_title('The Broadway Boundary\\n marking the western edge of the clutter slab')\n",
    "ax.set_xlabel(\"Meters\")\n",
    "ax.set_ylabel(\"Meters\")\n",
    "ax.set_xlim(BBox[0],BBox[1])\n",
    "ax.set_ylim(BBox[2],BBox[3])\n",
    "ax.imshow(martin_acres_map, zorder=0, extent = BBox, aspect= 'equal')\n",
    "plt.show()"
   ]
  },
  {
   "cell_type": "markdown",
   "id": "94180a94-970e-4716-88c6-0079540a5ec6",
   "metadata": {},
   "source": [
    "### Find the distance from the RX location to the Broadway boundary\n",
    "\n",
    "Add this distance as a new column (called `horizontal_d__meter`) to the DataFrame."
   ]
  },
  {
   "cell_type": "code",
   "execution_count": null,
   "id": "3665bc6c-f54b-4a70-8a3c-f5d73170aef5",
   "metadata": {},
   "outputs": [],
   "source": [
    "def m_intersect(tx_m, rx_m, line_s_m, line_e_m):\n",
    "    \"\"\"\n",
    "    Find the intersection of the ray path with Broadway\n",
    "    and return the distance of the intersection to the RX point\n",
    "\n",
    "    :param tx_m: Tuple (Y, X) containing the TX point (meters)\n",
    "    :param rx_m: Tuple (Y, X) containing the RX point (meters)\n",
    "    :param line_s_m: Tuple (Y, X) containing Broadway line start coordinates (meters)\n",
    "    :param line_e_m: Tuple (Y, X) containing Broadway line end coordinates (meters)\n",
    "    \"\"\"\n",
    "    rise1 = tx_m[0] - rx_m[0]\n",
    "    run1 = tx_m[1] - rx_m[1]\n",
    "    m1 = rise1 / run1 ## find the slope of the first line\n",
    "    \n",
    "    rise2 = line_s_m[0] - line_e_m[0]\n",
    "    run2 = line_s_m[1] - line_e_m[1]\n",
    "    m2 = rise2 / run2 ## find the slope of the second line\n",
    "    \n",
    "    ## x and y are the intersection point (in meters)\n",
    "    ## x = (m1*b - a - m2*d + c) / (m1 - m2)\n",
    "    x = (m1*tx_m[1] - tx_m[0] - m2*line_s_m[1] + line_s_m[0]) / (m1 - m2)\n",
    "    y = m1*(x-tx_m[1]) + tx_m[0]\n",
    "    dist_from_rx = np.sqrt(np.square(x - rx_m[1]) + np.square(y - rx_m[0]))\n",
    "    return dist_from_rx\n",
    "\n",
    "## add new column to DataFrames, the distance from RX to Broadway\n",
    "low_df[\"horizontal_d__meter\"] = low_df.apply(lambda row: m_intersect((row.TxY__meter, row.TxX__meter), (row.RxY__meter, row.RxX__meter), bway_s, bway_n), axis=1)\n",
    "high_df[\"horizontal_d__meter\"] = high_df.apply(lambda row: m_intersect((row.TxY__meter, row.TxX__meter), (row.RxY__meter, row.RxX__meter), bway_s, bway_n), axis=1)"
   ]
  },
  {
   "cell_type": "markdown",
   "id": "bffe8b6b-94db-4a2e-bda0-589577f53ffc",
   "metadata": {},
   "source": [
    "### Plot the distance from RX to Broadway\n",
    "\n",
    "This step serves as a bit of a sanity check before we continue. Can we visually see that we are correctly defining the distance from Rx points to Broadway, for both datasets? Does our simple line approximate the actual physical boundary of Broadway well? Viewing these plots shows that the \"distance to Broadway\" values seem to make sense across the datasets."
   ]
  },
  {
   "cell_type": "code",
   "execution_count": null,
   "id": "e392fcc8-34c5-4bcb-af37-8423144a0544",
   "metadata": {},
   "outputs": [],
   "source": [
    "## make the plot\n",
    "fig, ax = plt.subplots(figsize=(10, 10))\n",
    "ax.scatter(high_df.iloc[0][\"TxX__meter\"],high_df.iloc[0][\"TxY__meter\"], zorder=2, alpha=1.0, c='r', s=50, label=\"Tx Location\")\n",
    "ax.plot([bway_n[1],bway_s[1]], [bway_n[0],bway_s[0]], zorder=3, alpha=1.0, c='b')\n",
    "ex1 = ax.scatter(high_df[\"RxX__meter\"], high_df[\"RxY__meter\"], zorder=1, c=high_df[\"horizontal_d__meter\"], cmap='magma_r', alpha= 1.0, s=4, vmin=0, vmax=1700)\n",
    "cbar = plt.colorbar(ex1, fraction=0.03, label=\"Meters\")\n",
    "\n",
    "ax.set_title('Distance from RX point to Broadway Intersection, along TX-RX path\\nfor High data')\n",
    "ax.set_xlabel(\"Meters\")\n",
    "ax.set_ylabel(\"Meters\")\n",
    "ax.set_xlim(BBox[0],BBox[1])\n",
    "ax.set_ylim(BBox[2]-(BBox[2]/4),BBox[3])\n",
    "ax.imshow(martin_acres_map, zorder=0, extent = BBox, aspect= 'equal')\n",
    "ax.legend()\n",
    "plt.show()"
   ]
  },
  {
   "cell_type": "code",
   "execution_count": null,
   "id": "49a05347-7440-44d6-8901-b1c8505f77d1",
   "metadata": {},
   "outputs": [],
   "source": [
    "## make the plot\n",
    "fig, ax = plt.subplots(figsize=(10, 10))\n",
    "ax.scatter(low_df.iloc[0][\"TxX__meter\"],low_df.iloc[0][\"TxY__meter\"], zorder=2, alpha=1.0, c='r', s=50, label=\"Tx Location\")\n",
    "ax.plot([bway_n[1],bway_s[1]], [bway_n[0],bway_s[0]], zorder=3, alpha=1.0, c='b')\n",
    "ex1 = ax.scatter(low_df[\"RxX__meter\"], low_df[\"RxY__meter\"], zorder=1, c=low_df[\"horizontal_d__meter\"], cmap='magma_r', alpha= 1.0, s=4, vmin=0, vmax=1700)\n",
    "cbar = plt.colorbar(ex1, fraction=0.03, label=\"Meters\")\n",
    "\n",
    "plt.title('Distance from RX point to Broadway Intersection, along TX-RX path\\nfor Low data')\n",
    "plt.xlabel(\"Meters\")\n",
    "plt.ylabel(\"Meters\")\n",
    "plt.xlim(BBox[0],BBox[1])\n",
    "plt.ylim(BBox[2],BBox[3])\n",
    "plt.imshow(martin_acres_map, zorder=0, extent = BBox, aspect= 'equal')\n",
    "plt.legend()\n",
    "plt.show()"
   ]
  },
  {
   "cell_type": "markdown",
   "id": "ca5d2193-c8a8-46da-b3da-f80038aea0a6",
   "metadata": {},
   "source": [
    "### Find the 3D Clutter Distance $r_c$\n",
    "\n",
    "$r_c = \\text{MIN} (d_c , \\frac{h_c}{\\sin\\theta_\\text{rx}})$ and add it as a new column called `clutter_d__meter`."
   ]
  },
  {
   "cell_type": "code",
   "execution_count": null,
   "id": "a03c5f1d-3b86-47c2-a796-7acacfb5fcf0",
   "metadata": {},
   "outputs": [],
   "source": [
    "h_c = clutter_height_mean + 2*clutter_height_std  # From our earlier definition\n",
    "\n",
    "def clutter_distance(horizontal_d, rep_clutter_height, rx_angle):\n",
    "    return min(horizontal_d, rep_clutter_height/np.sin(np.radians(rx_angle)))\n",
    "\n",
    "## add the new clutter distance columns\n",
    "low_df[\"clutter_d__meter\"] = low_df.apply(lambda row: clutter_distance(row.horizontal_d__meter, h_c, row.rx_angle__deg), axis=1)\n",
    "high_df[\"clutter_d__meter\"] = high_df.apply(lambda row: clutter_distance(row.horizontal_d__meter, h_c, row.rx_angle__deg), axis=1)"
   ]
  },
  {
   "cell_type": "markdown",
   "id": "e3063a17-05f2-402f-853b-d64a1cb32020",
   "metadata": {},
   "source": [
    "### Plot the 3D Clutter Distance vs Clutter Loss"
   ]
  },
  {
   "cell_type": "code",
   "execution_count": null,
   "id": "f3f065e5-f7a7-4664-9033-f2c50a67e02e",
   "metadata": {},
   "outputs": [],
   "source": [
    "fig, ax = plt.subplots(figsize=(10, 6))\n",
    "ax.scatter(low_df[\"clutter_d__meter\"], low_df[\"L_excess__db\"], label='Low TX', s=8, zorder=1)\n",
    "ax.scatter(high_df[\"clutter_d__meter\"], high_df[\"L_excess__db\"], label='High TX', s=8, zorder=0)\n",
    "\n",
    "ax.set_xlabel('3D Clutter Distance (m)')\n",
    "ax.set_ylabel('Clutter Loss (dB)')\n",
    "ax.set_title('3D Clutter Distance vs Clutter Loss')\n",
    "  \n",
    "ax.legend(fontsize=14)\n",
    "ax.grid(True, axis=\"y\")\n",
    "plt.show()"
   ]
  },
  {
   "cell_type": "markdown",
   "id": "bc1bdd40-52c0-4e2c-a29f-9f9153b8dd58",
   "metadata": {},
   "source": [
    "Pause and look at the relationship between 3D clutter distance and clutter loss. Unlike the \"Path Distance vs Clutter Loss\" figure, there is a clear relationship between 3D clutter distance and clutter loss. The 3D clutter distance has had a major effect on the High Tx data. High Tx data is now pushed toward the left of the plot because its signal paths exit the Martin Acres clutter sooner than the Low Tx signal paths. There is now a clear logarithmic relationship between 3D clutter distance and clutter loss. Additionally, the data are no longer completely distinct based on TX location; many Low TX and High TX points overlap in this figure."
   ]
  },
  {
   "cell_type": "markdown",
   "id": "1b68f1f9-e60f-408d-af0e-cd4d4ff03a46",
   "metadata": {},
   "source": [
    "### Plot the logarithmic transform of the data\n",
    "\n",
    "Apply a log transform to the x axis (3D clutter distance). There should be a linear relationship between log(3D clutter distance) and clutter loss."
   ]
  },
  {
   "cell_type": "code",
   "execution_count": null,
   "id": "5637da07-8e9b-47ca-b252-279d8dd75dfd",
   "metadata": {},
   "outputs": [],
   "source": [
    "fig, ax = plt.subplots(figsize=(10, 6))\n",
    "## the x data now has a np.log10() function applied to it\n",
    "ax.scatter(np.log10(low_df[\"clutter_d__meter\"]), low_df[\"L_excess__db\"], label='Low TX', s=8, zorder=1)\n",
    "ax.scatter(np.log10(high_df[\"clutter_d__meter\"]), high_df[\"L_excess__db\"], label='High TX', s=8, zorder=0)\n",
    "\n",
    "ax.set_xlabel('Log10(3D Clutter Distance)')\n",
    "ax.set_ylabel('Clutter Loss (dB)')\n",
    "ax.set_title('Logarithmic transform of the data')\n",
    "  \n",
    "ax.legend(fontsize=14)\n",
    "ax.grid(True, axis=\"y\")\n",
    "plt.show()"
   ]
  },
  {
   "cell_type": "markdown",
   "id": "e8fd8463-7cf2-4bd8-96e1-6863f78f3aea",
   "metadata": {},
   "source": [
    "### Fit log-transformed data with a linear regression model\n",
    "\n",
    "The regression model will fit a line to the data that minimizes squared errors. The line represents the median clutter loss observed at a given 3D clutter distance. Let $L_{c,m}$ be the median clutter loss. Then $L_{c,m} = a \\text{log}_{10}r_c+b$, where $r_c$ is the 3D clutter distance. The linear regression will find the best $a$ and $b$ to fit the data."
   ]
  },
  {
   "cell_type": "code",
   "execution_count": null,
   "id": "f3c5efa8-bf0f-477e-b276-1512c0cd26bf",
   "metadata": {},
   "outputs": [],
   "source": [
    "## concatinate the high and low dataframes\n",
    "df1 = high_df[[\"clutter_d__meter\", \"L_excess__db\"]]\n",
    "df2 = low_df[[\"clutter_d__meter\", \"L_excess__db\"]]\n",
    "full_df = pd.concat([df1, df2])\n",
    "\n",
    "## perform the linear regression on the data\n",
    "linear_regression = LinearRegression()\n",
    "linear_regression.fit(np.array(np.log10(full_df[\"clutter_d__meter\"])).reshape(-1,1), full_df[\"L_excess__db\"])\n",
    "y_int = linear_regression.intercept_\n",
    "slope = linear_regression.coef_[0]\n",
    "print(f\"a = {slope:.2f} \\nb = {y_int:.2f}\")\n",
    "print(f\"L_cm = {slope:.2f} * log10(r_c) + {y_int:.2f}\")"
   ]
  },
  {
   "cell_type": "markdown",
   "id": "6e36e406-f857-44a3-ad57-f7673f743db5",
   "metadata": {},
   "source": [
    "### Plot with the fit line with the measurement data"
   ]
  },
  {
   "cell_type": "code",
   "execution_count": null,
   "id": "814c30ec-e4ea-40d2-a609-2dc5076683cc",
   "metadata": {},
   "outputs": [],
   "source": [
    "fig, ax = plt.subplots(figsize=(10, 6))\n",
    "ax.scatter(np.log10(low_df[\"clutter_d__meter\"]), low_df[\"L_excess__db\"], label='Low TX', s=8, zorder=1)\n",
    "ax.scatter(np.log10(high_df[\"clutter_d__meter\"]), high_df[\"L_excess__db\"], label='High TX', s=8, zorder=0)\n",
    "\n",
    "## add the regression line\n",
    "z_point = (1.5, slope*1.5 + y_int)\n",
    "n_point = (3.3, slope*3.3 + y_int)\n",
    "\n",
    "ax.plot([z_point[0], n_point[0]],[z_point[1], n_point[1]], c='k', ls=\"--\", linewidth=3, label=\"Linear Model\")\n",
    "ax.set_xlabel(r'$\\log_{10}$(3D Clutter Distance)')\n",
    "ax.set_ylabel('Clutter Loss (dB)')\n",
    "ax.set_title('Linear Regression on data')\n",
    "  \n",
    "ax.legend(fontsize=16)\n",
    "ax.grid(True, axis=\"y\")\n",
    "plt.show()"
   ]
  },
  {
   "cell_type": "markdown",
   "id": "de5c8087-4c05-4f2e-8017-4e5373509c3c",
   "metadata": {},
   "source": [
    "### Transform back to linear units\n",
    "\n",
    "Now that we've done our linear fit in the log-domain, let's see how things look when put back on a linear scale."
   ]
  },
  {
   "cell_type": "code",
   "execution_count": null,
   "id": "e28c3ec6-0efd-47ca-b907-74ff302b2733",
   "metadata": {},
   "outputs": [],
   "source": [
    "full_x = np.linspace(5,1750,2000)\n",
    "full_y = slope*np.log10(full_x) + y_int\n",
    "\n",
    "fig, ax = plt.subplots(figsize=(10, 6))\n",
    "ax.plot(full_x, full_y, label='Model', c='k', ls=\"--\", linewidth=3)\n",
    "\n",
    "ax.scatter(low_df[\"clutter_d__meter\"], low_df[\"L_excess__db\"], label='Low TX', s=8, zorder=1)\n",
    "ax.scatter(high_df[\"clutter_d__meter\"], high_df[\"L_excess__db\"], label='High TX', s=8, zorder=0)\n",
    "\n",
    "ax.set_xlabel('3D Clutter Distance (m)', fontsize=15)\n",
    "ax.set_ylabel('Clutter Loss (dB)', fontsize=15)\n",
    "ax.set_title('Log 3D Clutter Distance Model', fontsize=16)\n",
    "ax.legend(fontsize=14)\n",
    "ax.grid(True, axis=\"y\")\n",
    "plt.show()"
   ]
  },
  {
   "cell_type": "markdown",
   "id": "103f30be-9aff-43e3-b2bc-1fe9196e01f8",
   "metadata": {},
   "source": [
    "### Your median clutter loss model is..."
   ]
  },
  {
   "cell_type": "code",
   "execution_count": null,
   "id": "f3d44df5-f6c3-4012-b6b8-ce6f7f0dd20e",
   "metadata": {},
   "outputs": [],
   "source": [
    "print(f\"L_cm = {slope:.2f} * log10(r_c) + {y_int:.2f}\")"
   ]
  },
  {
   "cell_type": "markdown",
   "id": "1fcc81d1-9948-4d44-b499-cadf081e745a",
   "metadata": {},
   "source": [
    "### Plot the residuals of the regression model \n",
    "\n",
    "One useful metric for analyzing the prediction accuracy of a model is the residual. The clutter model's residual is defined here as the measured basic transmission loss in excess of free space minus the predicted clutter loss. A good model will have small residuals which are symmetrically distributed about zero- in this case, we can say that the model is an accurate predictor for the measurement, and that the model is equally likely to over- or under-predict clutter loss."
   ]
  },
  {
   "cell_type": "code",
   "execution_count": null,
   "id": "0c9e64d2-7d8f-4183-b8ef-c215aafe2853",
   "metadata": {},
   "outputs": [],
   "source": [
    "## define the clutter model\n",
    "def model(r_c):\n",
    "    return slope * np.log10(r_c) + y_int\n",
    "\n",
    "## add column for predicted loss based on the clutter model\n",
    "full_df[\"pred_loss\"] = full_df[\"clutter_d__meter\"].map(model)\n",
    "\n",
    "## add a column for the prediction error\n",
    "full_df[\"error\"] = full_df.apply(lambda row: row.L_excess__db - row.pred_loss, axis=1)\n",
    "\n",
    "## plot the histogram of the residuals\n",
    "fig, ax = plt.subplots(figsize=(10, 5))\n",
    "n, bins, patches = ax.hist(full_df[\"error\"], np.linspace(-15,15,31), density=True, facecolor='cornflowerblue', edgecolor='black')\n",
    "ax.set_xlabel('Residual (dB)')\n",
    "ax.set_ylabel('Probability')\n",
    "ax.set_title('Regression Residuals')\n",
    "ax.grid(True, which=\"both\", axis=\"both\", alpha=0.3)\n",
    "ax.minorticks_on()\n",
    "ax.set_axisbelow(True)\n",
    "plt.show()"
   ]
  },
  {
   "cell_type": "markdown",
   "id": "3d214734-b464-463a-b0a1-dbe917746436",
   "metadata": {},
   "source": [
    "### Plot model with 10%, 50%, and 90% variability bounds\n",
    "\n",
    "Our model predicts the median clutter loss. Let's expand our results to find predicted clutter loss curves which should bound 90% or 10% of the measured data. Then, let's plot all of the measured data along with the 10%, 50% (median), and 90% prediction curves."
   ]
  },
  {
   "cell_type": "code",
   "execution_count": null,
   "id": "b606c717-843c-4526-a292-e67e4f266272",
   "metadata": {},
   "outputs": [],
   "source": [
    "## sort errors and find 10% and 90% bounds\n",
    "full_N = len(full_df)\n",
    "full_sorted_x = np.sort(full_df[\"error\"])\n",
    "full_sorted_y = np.arange(full_N) / float(full_N)\n",
    "idx_10 = np.where(full_sorted_y > 0.1)[0][0]\n",
    "idx_90 = np.where(full_sorted_y > 0.9)[0][0]\n",
    "\n",
    "print(f\"10% is at + {full_sorted_x[idx_10]:.1f} dB\")\n",
    "print(f\"90% is at + {full_sorted_x[idx_90]:.1f} dB\")"
   ]
  },
  {
   "cell_type": "code",
   "execution_count": null,
   "id": "2ed4a5c5-7247-4700-980e-afb8f3c24fc3",
   "metadata": {},
   "outputs": [],
   "source": [
    "full_x = np.linspace(5,1750,2000)\n",
    "full_y = slope*np.log10(full_x) + y_int\n",
    "\n",
    "## create plot\n",
    "fig, ax = plt.subplots(figsize=(10, 6))\n",
    "\n",
    "## plot 90%\n",
    "ax.plot(full_x, full_y + full_sorted_x[idx_90], label='90%', c='tab:red', ls=\"--\", linewidth=3)\n",
    "## plot median\n",
    "ax.plot(full_x, full_y, label='50%', c='k', linewidth=3)\n",
    "## plot 10%\n",
    "ax.plot(full_x, full_y + full_sorted_x[idx_10], label='10%', c='tab:green', ls=\"--\", linewidth=3)\n",
    "## plot measured data\n",
    "ax.scatter(low_df[\"clutter_d__meter\"], low_df[\"L_excess__db\"], label='Low TX', s=8, zorder=1)\n",
    "ax.scatter(high_df[\"clutter_d__meter\"], high_df[\"L_excess__db\"], label='High TX', s=8, zorder=0)\n",
    "\n",
    "ax.set_xlabel('3D Clutter Distance (m)', fontsize=15)\n",
    "ax.set_ylabel('Clutter Loss (dB)', fontsize=15)\n",
    "ax.set_title('Log 3D Clutter Distance Model', fontsize=16)\n",
    "ax.legend(fontsize=14)\n",
    "ax.grid(True, axis=\"y\")\n",
    "plt.show()"
   ]
  },
  {
   "cell_type": "markdown",
   "id": "3158419c-6ff1-4980-b940-a8e8b1b18f8e",
   "metadata": {},
   "source": [
    "The 10%, 50%, and 90% curves capture the location variability present within the measurements. The location variability causes a +/- 4.5 dB spread around the median. These values are included in the statistical propagation model that you just found.\n",
    "\n",
    "$$\\Huge L_c = 13.7*\\text{log}_{10}(r_c) - 9.8 \\pm 4.5 \\text{dB}$$\n",
    "\n",
    "Well done, you've created a statistical clutter model based on propagation measurements and lidar. In the next less you'll compare your model to a well-known clutter model from Recommendation ITU-R P.2108. \n",
    "\n",
    "End of Lesson 3."
   ]
  }
 ],
 "metadata": {
  "kernelspec": {
   "display_name": "Python 3 (ipykernel)",
   "language": "python",
   "name": "python3"
  },
  "language_info": {
   "codemirror_mode": {
    "name": "ipython",
    "version": 3
   },
   "file_extension": ".py",
   "mimetype": "text/x-python",
   "name": "python",
   "nbconvert_exporter": "python",
   "pygments_lexer": "ipython3",
   "version": "3.9.19"
  }
 },
 "nbformat": 4,
 "nbformat_minor": 5
}
