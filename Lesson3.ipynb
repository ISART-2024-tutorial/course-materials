{
 "cells": [
  {
   "cell_type": "markdown",
   "id": "40cb3121-0d7e-4953-a07d-f4c50bbba7e6",
   "metadata": {},
   "source": [
    "# Lesson 3 - Build a Clutter Model\n",
    "\n",
    "In this lesson you'll create a statistical propagation model to predict loss due to clutter in 3.5 GHz propagation measurements. To create the model you are given two measurement datasets from the Martin Acres neighborhood of Boulder, Colorado. They are located in the `course-materials/data/` directory. \n",
    "\n",
    "- **`course-materials/data/MartinAcresLow_3500.MartinAcres.csv`**\n",
    "- **`course-materials/data/MartinAcresHigh_3500.MartinAcres.csv`**\n",
    "\n",
    "<img src=\"./images/measurement_datasets.png\" alt=\"low and high datasets\" width=\"1200\"/>\n",
    "\n",
    "This image shows two datasets made with a 3.5 GHz continuous wave signal transmitted from two different locations: low TX, and high TX. The low TX antenna is at approximately 1660 meters above sea level. The high TX antenna is at approximately 1800 meters above sea level. \n",
    "\n",
    "__In this lesson you will:__\n",
    "\n",
    "**1.** Load the measurement data and plot it on a map.\n",
    "\n",
    "**2.** Visualize the data: a) Cumulative Distribution and b) Path Distance vs Clutter Loss.\n",
    "\n",
    "**3.** Determine the _distance within clutter_ for each ray path.\n",
    "\n",
    "**4.** Fit a regression model to **predict clutter loss based on _distance within clutter_**.\n",
    "\n",
    "<br/>\n",
    "\n",
    "### Import the necessary python libraries"
   ]
  },
  {
   "cell_type": "code",
   "execution_count": null,
   "id": "0f52c6c2-5808-40a3-b2e9-f70cb553944b",
   "metadata": {},
   "outputs": [],
   "source": [
    "import numpy as np\n",
    "import matplotlib.pyplot as plt\n",
    "import pandas as pd\n",
    "import rasterio\n",
    "from sklearn.linear_model import LinearRegression"
   ]
  },
  {
   "cell_type": "markdown",
   "id": "d1e52b4a-ca42-4196-bfcf-4e8ac6f9a650",
   "metadata": {},
   "source": [
    "### Load Lesson 2 LiDAR clutter statistics for Martin Acres\n",
    "  * Clutter height mean = 8 meters.\n",
    "  * Clutter height std. deviation = 4.5 meters."
   ]
  },
  {
   "cell_type": "code",
   "execution_count": null,
   "id": "a00a65ee-6c10-4116-92b3-139ab9352215",
   "metadata": {},
   "outputs": [],
   "source": [
    "clutter_height_mean = 8 ## meters\n",
    "clutter_height_std = 4.5 ## meters"
   ]
  },
  {
   "cell_type": "markdown",
   "id": "7dbe7cc6-c56e-4373-a92a-3588bdbb7574",
   "metadata": {},
   "source": [
    "### Bring in LiDAR data and static variables"
   ]
  },
  {
   "cell_type": "code",
   "execution_count": null,
   "id": "11463245-ffcd-420b-90e3-e5e17a9b276e",
   "metadata": {},
   "outputs": [],
   "source": [
    "## bring in LiDAR data (same as lesson 2)\n",
    "dataset_terrain = rasterio.open(\"./data/MartinAcres.dtm.tif\")\n",
    "dataset_surface = rasterio.open(\"./data/MartinAcres.dsm.tif\")\n",
    "band1_terrain = dataset_terrain.read(1)\n",
    "band1_surface = dataset_surface.read(1)\n",
    "## set map and LiDAR bounds (same as lesson 2)\n",
    "left, bottom, right, top = dataset_terrain.bounds\n",
    "left_deg, bottom_deg, right_deg, top_deg = (-105.2869255, 39.9747967, -105.2343079, 40.0019534)\n",
    "## for converting lat and long degrees into meters (same as lesson 2)\n",
    "meters_per_lat = 111319.49 \n",
    "meters_per_long = 85263.24 ## only valid at latitudes of 40 degrees"
   ]
  },
  {
   "cell_type": "markdown",
   "id": "222a029d-f9c8-4791-a635-715786328443",
   "metadata": {},
   "source": [
    "### Load the measurement datasets\n",
    "\n",
    "The measurement datasets are loaded from CSV into [Pandas DataFrames](https://www.datacamp.com/tutorial/pandas-tutorial-dataframe-python). DataFrames are a row/column data structure that allow for efficient manipulation and analysis of large amounts of data."
   ]
  },
  {
   "cell_type": "code",
   "execution_count": null,
   "id": "21d3cc64-1ded-4649-b9d8-727e6f3ca0cb",
   "metadata": {},
   "outputs": [],
   "source": [
    "low_file_name = \"./data/MartinAcresLow_3500.MartinAcres.csv\"\n",
    "high_file_name = \"./data/MartinAcresHigh_3500.MartinAcres.csv\"\n",
    "low_df = pd.read_csv(low_file_name)\n",
    "high_df = pd.read_csv(high_file_name)"
   ]
  },
  {
   "cell_type": "markdown",
   "id": "0e1c2614-ba8f-49b0-977e-8a383ed77ba2",
   "metadata": {},
   "source": [
    "### Look at the first 5 rows of the high and low DataFrames"
   ]
  },
  {
   "cell_type": "code",
   "execution_count": null,
   "id": "ef6563d3-d3fa-4a75-a029-376795164367",
   "metadata": {},
   "outputs": [],
   "source": [
    "high_df.head(5)"
   ]
  },
  {
   "cell_type": "code",
   "execution_count": null,
   "id": "300c7e08-aa36-4b23-9830-c51b5a5a4c1a",
   "metadata": {},
   "outputs": [],
   "source": [
    "low_df.head(5)"
   ]
  },
  {
   "cell_type": "markdown",
   "id": "ffa157db-34a7-416d-9ad3-f9b4ee0b42ef",
   "metadata": {},
   "source": [
    "### Column definitions \n",
    "\n",
    "| Column        | Definition                         |\n",
    "| ------------- |------------------------------------|\n",
    "| ID            | Identifier                         |\n",
    "| TxLat         | Tx Latitude                        |\n",
    "| TxLon         | Tx Longitude                       |\n",
    "| RxLat         | Rx Latitude                        |\n",
    "| RxLon         | Rx Longitude                       |\n",
    "| h_tx__meter   | Tx Antenna Height                  |\n",
    "| h_rx__meter   | Rx Antenna Height                  |\n",
    "| f__mhz        | Frequency                          |\n",
    "| d__km         | Distance TX to RX                  |\n",
    "| d_3d__km      | 3D Distance TX to RX               |\n",
    "| L_meas__db    | Measured Loss                      |\n",
    "| L_fs__db      | Estim. Free-Space Loss             |\n",
    "| L_excess__db  | Clutter Loss                       |\n",
    "\n",
    "d_3d__km considers the antenna altitudes when calculating the distance between the TX and RX. Low dataset only has d__km because there is very little  difference from d_3d__km. "
   ]
  },
  {
   "cell_type": "markdown",
   "id": "deaa9013-451e-4f2c-a781-207dc01b0e83",
   "metadata": {},
   "source": [
    "### Add a new columns to the DataFrames\n",
    "\n",
    "Convert __TxLat, TxLon, RxLat, and RxLon to meters__ for ease of measuring and plotting."
   ]
  },
  {
   "cell_type": "code",
   "execution_count": null,
   "id": "e6f4e74a-75c1-4c3a-9708-52254f8b8923",
   "metadata": {},
   "outputs": [],
   "source": [
    "## functions to convert lat and long to meters\n",
    "def convert_lat_to_meters(lat):\n",
    "    lat_dif = top_deg - lat\n",
    "    vert_dif_m = lat_dif * meters_per_lat\n",
    "    return vert_dif_m\n",
    "\n",
    "def convert_long_to_meters(long):\n",
    "    long_dif = long - left_deg\n",
    "    horz_dif_m = long_dif * meters_per_long\n",
    "    return horz_dif_m\n",
    "\n",
    "## create new columns by mapping the conversion function to lat or long column\n",
    "low_df[\"RxX__meter\"] = low_df[\"RxLon\"].map(convert_long_to_meters)\n",
    "low_df[\"RxY__meter\"] = low_df[\"RxLat\"].map(convert_lat_to_meters)\n",
    "low_df[\"TxX__meter\"] = low_df[\"TxLon\"].map(convert_long_to_meters)\n",
    "low_df[\"TxY__meter\"] = low_df[\"TxLat\"].map(convert_lat_to_meters)"
   ]
  },
  {
   "cell_type": "markdown",
   "id": "041494ff-4adf-45f7-9f94-f57475fc8827",
   "metadata": {},
   "source": [
    "### Look at the new columns RxX__meter, RxY__meter, TxX__meter, TxY__meter"
   ]
  },
  {
   "cell_type": "code",
   "execution_count": null,
   "id": "07056ff3-9fcf-4eb6-8844-a2bcf5e81562",
   "metadata": {},
   "outputs": [],
   "source": [
    "low_df.head(5)"
   ]
  },
  {
   "cell_type": "code",
   "execution_count": null,
   "id": "7aa68824-4b5a-4d67-8267-54d8b7794ad5",
   "metadata": {},
   "outputs": [],
   "source": [
    "## do the same for the High dataframe\n",
    "high_df[\"RxX__meter\"] = high_df[\"RxLon\"].map(convert_long_to_meters)\n",
    "high_df[\"RxY__meter\"] = high_df[\"RxLat\"].map(convert_lat_to_meters)\n",
    "high_df[\"TxX__meter\"] = high_df[\"TxLon\"].map(convert_long_to_meters)\n",
    "high_df[\"TxY__meter\"] = high_df[\"TxLat\"].map(convert_lat_to_meters)"
   ]
  },
  {
   "cell_type": "code",
   "execution_count": null,
   "id": "a6d73154-1999-4c9d-85c8-6bf3a4d8e957",
   "metadata": {},
   "outputs": [],
   "source": [
    "high_df.head(5)"
   ]
  },
  {
   "cell_type": "markdown",
   "id": "f23b18d8-6682-4c92-9431-444d354d703c",
   "metadata": {},
   "source": [
    "### Plot the measurements on a map"
   ]
  },
  {
   "cell_type": "code",
   "execution_count": null,
   "id": "be8744cb-51a1-4f4f-b1fe-075308c1a7dd",
   "metadata": {},
   "outputs": [],
   "source": [
    "## read in Martin Acres map image\n",
    "##  image from www.openstreetmap.org\n",
    "martin_acres_map = plt.imread('./images/martin_acres_map.png')\n",
    "\n",
    "## set the map bounding box (in meters)\n",
    "BBox = (0,  right-left,      \n",
    "        top-bottom,  0)"
   ]
  },
  {
   "cell_type": "code",
   "execution_count": null,
   "id": "702aba6e-6d67-4656-b27d-412fa2f61fdb",
   "metadata": {},
   "outputs": [],
   "source": [
    "## make the Low plot\n",
    "plt.rcParams[\"figure.figsize\"] = (10,10)\n",
    "\n",
    "## plot the TX location\n",
    "ex2 = plt.scatter(low_df.iloc[0][\"TxX__meter\"],low_df.iloc[0][\"TxY__meter\"], zorder=2, alpha=1.0, c='r', s=50, label=\"Tx Location\")\n",
    "## plot the Clutter Losses \n",
    "ex1 = plt.scatter(low_df[\"RxX__meter\"], low_df[\"RxY__meter\"], zorder=1, c=low_df[\"L_excess__db\"], cmap='copper_r', alpha= 1.0, s=6, vmin=0, vmax=40)\n",
    "\n",
    "cbar = plt.colorbar(ex1, fraction=0.03)\n",
    "cbar.set_label('Excess Loss (dB)')\n",
    "plt.title('Clutter Loss for Martin Acres Low Tx Location')\n",
    "plt.xlabel(\"Meters\")\n",
    "plt.ylabel(\"Meters\")\n",
    "plt.xlim(BBox[0],BBox[1])\n",
    "plt.ylim(BBox[2],BBox[3])\n",
    "plt.imshow(martin_acres_map, zorder=0, extent = BBox, aspect= 'equal')\n",
    "plt.legend()\n",
    "plt.show()"
   ]
  },
  {
   "cell_type": "code",
   "execution_count": null,
   "id": "e827dfad-d06e-4f74-9af3-e1aa9101e894",
   "metadata": {},
   "outputs": [],
   "source": [
    "## make the high plot\n",
    "plt.rcParams[\"figure.figsize\"] = (10,10)\n",
    "\n",
    "## plot the Tx location\n",
    "ex2 = plt.scatter(high_df.iloc[0][\"TxX__meter\"],high_df.iloc[0][\"TxY__meter\"], zorder=2, alpha=1.0, c='r', s=50, label=\"Tx Location\")\n",
    "## plot the Clutter Losses \n",
    "ex1 = plt.scatter(high_df[\"RxX__meter\"], high_df[\"RxY__meter\"], zorder=1, c=high_df[\"L_excess__db\"], cmap='copper_r', alpha= 1.0, s=6, vmin=0, vmax=40)\n",
    "\n",
    "cbar = plt.colorbar(ex1, fraction=0.03)\n",
    "cbar.set_label('Excess Loss (dB)')\n",
    "plt.title('Clutter Loss for Martin Acres High Tx Location')\n",
    "plt.xlabel(\"Meters\")\n",
    "plt.ylabel(\"Meters\")\n",
    "plt.xlim(BBox[0],BBox[1])\n",
    "plt.ylim(BBox[2],BBox[3])\n",
    "plt.imshow(martin_acres_map, zorder=0, extent = BBox, aspect= 'equal')\n",
    "plt.legend()\n",
    "plt.show()"
   ]
  },
  {
   "cell_type": "markdown",
   "id": "6dac747f-275c-41aa-b89f-557749c41bf4",
   "metadata": {},
   "source": [
    "### Plot the Cumulative Distribution Function (CDF) of the Clutter Loss for High and Low"
   ]
  },
  {
   "cell_type": "code",
   "execution_count": null,
   "id": "724fd612-efa7-483b-b11a-c791de56d051",
   "metadata": {},
   "outputs": [],
   "source": [
    "plt.rcParams[\"figure.figsize\"] = (11,6)\n",
    "\n",
    "low_N = len(low_df)\n",
    "low_x = np.sort(low_df[\"L_excess__db\"])\n",
    "low_y = np.arange(low_N) / float(low_N)\n",
    "## plot the CDF\n",
    "plt.plot(low_x, low_y, label='Low TX')\n",
    "\n",
    "high_N = len(high_df)\n",
    "high_x = np.sort(high_df[\"L_excess__db\"])\n",
    "high_y = np.arange(high_N) / float(high_N)\n",
    "## plot the CDF\n",
    "plt.plot(high_x, high_y, label='High TX')\n",
    "\n",
    "plt.xlabel('Clutter Loss (dB)')\n",
    "plt.ylabel('Probability')\n",
    "plt.title('Clutter Loss CDF')\n",
    "\n",
    "plt.gca().yaxis.grid(True)\n",
    "plt.legend(fontsize=14)\n",
    "plt.show()"
   ]
  },
  {
   "cell_type": "markdown",
   "id": "253635d7-9277-47b8-8492-1b4ae2fcba79",
   "metadata": {},
   "source": [
    "The clutter loss CDF shows that the Low Tx measurements suffers from more clutter loss than the High Tx measurements. \n",
    "\n",
    "### Plot the Path Distance vs Clutter Loss"
   ]
  },
  {
   "cell_type": "code",
   "execution_count": null,
   "id": "6b6257da-233a-4ac0-a507-eede6b569bc7",
   "metadata": {},
   "outputs": [],
   "source": [
    "plt.scatter(low_df[\"d__km\"], low_df[\"L_excess__db\"], label='Low TX', s=12)\n",
    "plt.scatter(high_df[\"d__km\"], high_df[\"L_excess__db\"], label='High TX', s=12)\n",
    "\n",
    "plt.xlabel('Distance (m)')\n",
    "plt.ylabel('Clutter Loss (dB)')\n",
    "plt.title('Path Distance vs Clutter Loss')\n",
    "\n",
    "plt.legend(fontsize=14)\n",
    "plt.gca().yaxis.grid(True)\n",
    "plt.show()"
   ]
  },
  {
   "cell_type": "markdown",
   "id": "32ffa4e8-cd48-4450-b4d9-f70e8ccbd57f",
   "metadata": {},
   "source": [
    "Clutter loss vs path distance shows there is no obvious global correlation between the two. Instead there seems to be a distinct relationship depending on the transmitter height.\n",
    "\n",
    "Because of the interesting relationship between transmitter height (high vs low) and the clutter loss. Let's calculate the _Rx elevation angle_ for all of the measurements in both datasets. \n",
    "\n",
    "<img src=\"./images/rx_elev_angle.png\" alt=\"RX elevation angle\" width=\"600\"/>\n",
    "\n",
    "### Add an \"_Rx elevation angle_\" column to high and low DataFrames"
   ]
  },
  {
   "cell_type": "code",
   "execution_count": null,
   "id": "301feaad-df66-47ea-9234-9f1dd152fc18",
   "metadata": {},
   "outputs": [],
   "source": [
    "## use LiDAR to add antenna altitude \n",
    "def antenna_altitude(x, y, antenna_height, lidar_elev_band):\n",
    "    elev = lidar_elev_band[int(y)][int(x)]\n",
    "    return elev + antenna_height\n",
    "\n",
    "low_df[\"alt_rx__meter\"] = low_df.apply(lambda row: antenna_altitude(row.RxX__meter, row.RxY__meter, row.h_rx__meter, band1_terrain), axis=1)\n",
    "low_df[\"alt_tx__meter\"] = low_df.apply(lambda row: antenna_altitude(row.TxX__meter, row.TxY__meter, row.h_tx__meter, band1_terrain), axis=1)\n",
    "high_df[\"alt_rx__meter\"] = high_df.apply(lambda row: antenna_altitude(row.RxX__meter, row.RxY__meter, row.h_rx__meter, band1_terrain), axis=1)\n",
    "high_df[\"alt_tx__meter\"] = high_df.apply(lambda row: antenna_altitude(row.TxX__meter, row.TxY__meter, row.h_tx__meter, band1_terrain), axis=1)\n",
    "\n",
    "## RX elevation angle = arcsin( (tx_altitude - rx_altitude) / Hypotenuse distance )\n",
    "##  returns Rx elevation angle in degrees\n",
    "def rx_elev_angle(alt_rx, alt_tx, d):\n",
    "    soh = np.abs(alt_tx - alt_rx) / (d*1000)\n",
    "    angle_deg = np.arcsin(soh)*360/(np.pi*2) \n",
    "    return angle_deg\n",
    "\n",
    "high_df[\"rx_angle__deg\"] = high_df.apply(lambda row: rx_elev_angle(row.alt_rx__meter, row.alt_tx__meter, row.d_3d__km), axis=1)\n",
    "low_df[\"rx_angle__deg\"] = low_df.apply(lambda row: rx_elev_angle(row.alt_rx__meter, row.alt_tx__meter, row.d__km), axis=1)"
   ]
  },
  {
   "cell_type": "markdown",
   "id": "5ec91547-9a40-4f81-95cc-c221895fee9d",
   "metadata": {},
   "source": [
    "### Summary Statistics for RX Elevation Angle"
   ]
  },
  {
   "cell_type": "code",
   "execution_count": null,
   "id": "5c431237-e274-4914-a8c1-d9d8dd88c480",
   "metadata": {},
   "outputs": [],
   "source": [
    "print(\"\\t\\t\\t\\t\\tMin\\tMax\\tMean\\tSt Dev\")\n",
    "\n",
    "print(\"Low - RX elevation angle (deg)\\t\\t{:.2f}\\t{:.2f}\\t{:.2f}\\t{:.2f}\".format(np.min(low_df[\"rx_angle__deg\"]),\n",
    "                                                                                     np.max(low_df[\"rx_angle__deg\"]),\n",
    "                                                                                     np.mean(low_df[\"rx_angle__deg\"]),\n",
    "                                                                                     np.std(low_df[\"rx_angle__deg\"])))\n",
    "\n",
    "print(\"High - RX elevation angle (deg)\\t\\t{:.2f}\\t{:.2f}\\t{:.2f}\\t{:.2f}\".format(np.min(high_df[\"rx_angle__deg\"]),\n",
    "                                                                                     np.max(high_df[\"rx_angle__deg\"]),\n",
    "                                                                                     np.mean(high_df[\"rx_angle__deg\"]),\n",
    "                                                                                     np.std(high_df[\"rx_angle__deg\"])))"
   ]
  },
  {
   "cell_type": "markdown",
   "id": "bc7aabd7-08a1-41ec-bc16-dde644a0f964",
   "metadata": {},
   "source": [
    "Low has an average Rx elevation angle of 1 degree. High has an average elevation angle of 4 degrees. The difference between 1 and 4 degrees seems to account for an additional 10 dB of clutter loss, according to the CDF plotted earlier.\n",
    "\n",
    "### Plot Rx elevation angle vs clutter loss"
   ]
  },
  {
   "cell_type": "code",
   "execution_count": null,
   "id": "1fc4c465-619e-4e5f-8b98-81085acb93df",
   "metadata": {},
   "outputs": [],
   "source": [
    "plt.scatter(low_df[\"rx_angle__deg\"], low_df[\"L_excess__db\"], label='Low TX', s=10)\n",
    "plt.scatter(high_df[\"rx_angle__deg\"], high_df[\"L_excess__db\"], label='High TX', s=10)\n",
    "\n",
    "plt.xlabel('Rx Elevation Angle (deg)')\n",
    "plt.ylabel('Clutter Loss (dB)')\n",
    "plt.title('Rx Elevation Angle vs Clutter Loss')\n",
    "\n",
    "plt.legend(fontsize=14)\n",
    "plt.gca().yaxis.grid(True)\n",
    "plt.show()"
   ]
  },
  {
   "cell_type": "markdown",
   "id": "9ab857ae-f0d4-440c-8a22-4a3d55e11c04",
   "metadata": {},
   "source": [
    "As the previous plots have shown, we see no obvious correlation between the direct ray path distance and the clutter loss. Instead there seems to be some relationship between Rx elevation angle and clutter loss. There are some obvious outliers to this trend i.e., the Low Tx measurements with near 0 clutter loss. We leave it up to you to investigate possible explainations for the outliers.\n",
    "\n",
    "### Develop the 3D Clutter Distance Model\n",
    "\n",
    "In this model we assume clutter only appears near the end-point of the receiver. We also assume that west of Martin Acres the clutter ends and there is free space (Broadway acts as the western boundry). Therefore, the clutter will be modeled as a __slab__ resting atop the terrain of the Martin Acres neighborhood. The slab is as tall as the clutter height measured in lesson 2, $h_c$, and is bounded to the west by Broadway. \n",
    "\n",
    "\n",
    "<img src=\"./images/clutter_slab.png\" alt=\"Clutter Slab\" width=\"800\"/>\n",
    "\n",
    "Boardway we'll define as the line that passes through the following two points. You'll plot this line in the next code cell. \n",
    " * bway_north = (39.99741,-105.26273)\n",
    " * bway_south = (39.98587,-105.25248)\n",
    "\n",
    "The clutter height $h_c$ we measured in lesson 2. The mean clutter height $\\micro_c$ is 8 meters, and the standard deviation $\\sigma_c$ was 4.5 meters. Let's define $h_c$ as: $$h_c = \\micro_c + 2\\sigma_c$$ $$h_c = \\text{17 meters}$$ \n",
    "We chose this because this includes about 98% of the clutter. We encourage you to play with difference values of $h_c$ to see how it affects the model and the accuracy of the predictions.\n",
    "\n",
    "### Calculate 3D Clutter Distance\n",
    "\n",
    "3D Clutter Distance is the distance the ray traveled through the clutter slab to the RX point within the clutter. There are two scenarios you must consider when finding the 3D Clutter Distance: \n",
    "\n",
    "**1.** Find the distance of the path if it exits out of the top of the clutter slab. Defined as $h_c / \\sin(\\theta_\\text{rx})$ where $\\theta_\\text{rx}$ is the RX elevation angle.\n",
    "\n",
    "<img src=\"./images/3d_dist_top.png\" alt=\"RX elevation angle\" width=\"800\"/>\n",
    "\n",
    "**2.** Find the distance of the path if it exits out of the side of the clutter slab, defined as $d_c$. Which can be found by finding the intersection of the ray path with Broadway. \n",
    "\n",
    "<img src=\"./images/3d_dist_side.png\" alt=\"RX elevation angle\" width=\"800\"/>\n",
    "\n",
    "Ultimately, you will find the 3D Clutter Distance, $r_c$, as\n",
    "\n",
    "$$r_c = \\text{MIN} (d_c , \\frac{h_c}{\\sin\\theta_\\text{rx}})$$\n",
    "\n",
    "\n",
    "### Start by plotting the Broadway boundry of the slab"
   ]
  },
  {
   "cell_type": "code",
   "execution_count": null,
   "id": "e8217a44-d43f-4ffd-84a6-ff3e446753da",
   "metadata": {},
   "outputs": [],
   "source": [
    "def convert_gps_to_meters(lat, long):\n",
    "    lat_dif = top_deg - lat\n",
    "    long_dif = long - left_deg\n",
    "    vert_dif_m = lat_dif * meters_per_lat\n",
    "    horz_dif_m = long_dif * meters_per_long\n",
    "    return (vert_dif_m, horz_dif_m)\n",
    "\n",
    "bway_n = convert_gps_to_meters(39.99741,-105.26273)\n",
    "bway_s = convert_gps_to_meters(39.98587,-105.25248)\n",
    "\n",
    "## make the plot\n",
    "plt.rcParams[\"figure.figsize\"] = (10,10)\n",
    "\n",
    "ex3 = plt.plot([bway_n[1],bway_s[1]], [bway_n[0],bway_s[0]], zorder=3, alpha=1.0, c='b')\n",
    "\n",
    "plt.title('The Broadway Boundry\\n marking the western edge of the slab')\n",
    "plt.xlabel(\"Meters\")\n",
    "plt.ylabel(\"Meters\")\n",
    "plt.xlim(BBox[0],BBox[1])\n",
    "plt.ylim(BBox[2],BBox[3])\n",
    "plt.imshow(martin_acres_map, zorder=0, extent = BBox, aspect= 'equal')\n",
    "plt.show()"
   ]
  },
  {
   "cell_type": "markdown",
   "id": "94180a94-970e-4716-88c6-0079540a5ec6",
   "metadata": {},
   "source": [
    "### Find the distance from the RX location to the Broadway boundry\n",
    "\n",
    "and add it as a new column (called \"horizontal_d__meter\") to the DataFrame."
   ]
  },
  {
   "cell_type": "code",
   "execution_count": null,
   "id": "3665bc6c-f54b-4a70-8a3c-f5d73170aef5",
   "metadata": {},
   "outputs": [],
   "source": [
    "## this function finds the intersection of the ray path with broadway\n",
    "##  it returns the distance of the intersection to the RX point\n",
    "##  input tx and rx points and Broadway start and end\n",
    "def m_intersect(tx_m, rx_m, line_s_m, line_e_m):\n",
    "    rise1 = tx_m[0] - rx_m[0]\n",
    "    run1 = tx_m[1] - rx_m[1]\n",
    "    m1 = rise1 / run1 ## find the slope of the first line\n",
    "    \n",
    "    rise2 = line_s_m[0] - line_e_m[0]\n",
    "    run2 = line_s_m[1] - line_e_m[1]\n",
    "    m2 = rise2 / run2 ## find the slope of the second line\n",
    "    \n",
    "    ## x and y are the intersection point (in meters)\n",
    "    ## x = (m1*b - a - m2*d + c) / (m1 - m2)\n",
    "    x = (m1*tx_m[1] - tx_m[0] - m2*line_s_m[1] + line_s_m[0]) / (m1 - m2)\n",
    "    y = m1*(x-tx_m[1]) + tx_m[0]\n",
    "    # print(m1, m2, x, y)\n",
    "    dist_from_rx = np.sqrt(np.square(x - rx_m[1]) + np.square(y - rx_m[0]))\n",
    "    # print(dist_from_rx)\n",
    "    return dist_from_rx\n",
    "\n",
    "## add new column to DataFrame, the distance from RX to Broadway\n",
    "low_df[\"horizontal_d__meter\"] = low_df.apply(lambda row: m_intersect((row.TxY__meter, row.TxX__meter), (row.RxY__meter, row.RxX__meter), bway_s, bway_n), axis=1)\n",
    "high_df[\"horizontal_d__meter\"] = high_df.apply(lambda row: m_intersect((row.TxY__meter, row.TxX__meter), (row.RxY__meter, row.RxX__meter), bway_s, bway_n), axis=1)"
   ]
  },
  {
   "cell_type": "markdown",
   "id": "bffe8b6b-94db-4a2e-bda0-589577f53ffc",
   "metadata": {},
   "source": [
    "### Plot the distance from RX to Broadway"
   ]
  },
  {
   "cell_type": "code",
   "execution_count": null,
   "id": "e392fcc8-34c5-4bcb-af37-8423144a0544",
   "metadata": {},
   "outputs": [],
   "source": [
    "## make the plot\n",
    "plt.rcParams[\"figure.figsize\"] = (10,10)\n",
    "\n",
    "ex2 = plt.scatter(high_df.iloc[0][\"TxX__meter\"],high_df.iloc[0][\"TxY__meter\"], zorder=2, alpha=1.0, c='r', s=50, label=\"Tx Location\")\n",
    "ex1 = plt.scatter(high_df[\"RxX__meter\"], high_df[\"RxY__meter\"], zorder=1, c=high_df[\"horizontal_d__meter\"], cmap='copper_r', alpha= 1.0, s=4, vmin=0, vmax=1700)\n",
    "ex3 = plt.plot([bway_n[1],bway_s[1]], [bway_n[0],bway_s[0]], zorder=3, alpha=1.0, c='b')\n",
    "cbar = plt.colorbar(ex1, fraction=0.03)\n",
    "cbar.set_label('Meters')\n",
    "\n",
    "plt.title('Distance from RX point to Broadway Intersection, along TX-RX path\\nfor High data')\n",
    "plt.xlabel(\"Meters\")\n",
    "plt.ylabel(\"Meters\")\n",
    "plt.xlim(BBox[0],BBox[1])\n",
    "plt.ylim(BBox[2],BBox[3])\n",
    "plt.imshow(martin_acres_map, zorder=0, extent = BBox, aspect= 'equal')\n",
    "plt.legend()\n",
    "plt.show()"
   ]
  },
  {
   "cell_type": "code",
   "execution_count": null,
   "id": "49a05347-7440-44d6-8901-b1c8505f77d1",
   "metadata": {},
   "outputs": [],
   "source": [
    "## make the plot\n",
    "plt.rcParams[\"figure.figsize\"] = (10,10)\n",
    "\n",
    "ex2 = plt.scatter(low_df.iloc[0][\"TxX__meter\"],low_df.iloc[0][\"TxY__meter\"], zorder=2, alpha=1.0, c='r', s=50, label=\"Tx Location\")\n",
    "ex1 = plt.scatter(low_df[\"RxX__meter\"], low_df[\"RxY__meter\"], zorder=1, c=low_df[\"horizontal_d__meter\"], cmap='copper_r', alpha= 1.0, s=4, vmin=0, vmax=1700)\n",
    "ex3 = plt.plot([bway_n[1],bway_s[1]], [bway_n[0],bway_s[0]], zorder=3, alpha=1.0, c='b')\n",
    "cbar = plt.colorbar(ex1, fraction=0.03)\n",
    "cbar.set_label('Meters')\n",
    "\n",
    "plt.title('Distance from RX point to Broadway Intersection, along TX-RX path\\nfor Low data')\n",
    "plt.xlabel(\"Meters\")\n",
    "plt.ylabel(\"Meters\")\n",
    "plt.xlim(BBox[0],BBox[1])\n",
    "plt.ylim(BBox[2],BBox[3])\n",
    "plt.imshow(martin_acres_map, zorder=0, extent = BBox, aspect= 'equal')\n",
    "plt.legend()\n",
    "plt.show()"
   ]
  },
  {
   "cell_type": "markdown",
   "id": "ca5d2193-c8a8-46da-b3da-f80038aea0a6",
   "metadata": {},
   "source": [
    "### Find the 3D Clutter Distance $r_c$\n",
    "\n",
    "$r_c = \\text{MIN} (d_c , \\frac{h_c}{\\sin\\theta_\\text{rx}})$ and add it as a new column called \"clutter_d__meter\"."
   ]
  },
  {
   "cell_type": "code",
   "execution_count": null,
   "id": "a03c5f1d-3b86-47c2-a796-7acacfb5fcf0",
   "metadata": {},
   "outputs": [],
   "source": [
    "h_c = clutter_height_mean + 2*clutter_height_std\n",
    "\n",
    "def clutter_distance(horizontal_d, rep_clutter_height, rx_angle):\n",
    "    return min(horizontal_d, rep_clutter_height/np.sin(rx_angle*(np.pi*2)/360))\n",
    "\n",
    "## add the new clutter distance columns\n",
    "low_df[\"clutter_d__meter\"] = low_df.apply(lambda row: clutter_distance(row.horizontal_d__meter, h_c, row.rx_angle__deg), axis=1)\n",
    "high_df[\"clutter_d__meter\"] = high_df.apply(lambda row: clutter_distance(row.horizontal_d__meter, h_c, row.rx_angle__deg), axis=1)"
   ]
  },
  {
   "cell_type": "markdown",
   "id": "846477af-c48a-4a59-b3eb-aa35b14b9390",
   "metadata": {},
   "source": [
    "$L_c = L_{c,m} + Y(p)$ clutter loss is the median clutter loss + the location variability modeled as a log normal distrobution. $p$ is the percentage of locations.\n",
    "\n",
    "$L_{c,m} = a\\text{log}_{10}r_c+b$\n",
    "\n",
    "$r_c = \\text{MIN}(d_c,\\frac{h_c}{\\text{sin}\\theta})$"
   ]
  },
  {
   "cell_type": "markdown",
   "id": "e3063a17-05f2-402f-853b-d64a1cb32020",
   "metadata": {},
   "source": [
    "### plot the 3D Clutter Distance vs Clutter Loss"
   ]
  },
  {
   "cell_type": "code",
   "execution_count": null,
   "id": "f3f065e5-f7a7-4664-9033-f2c50a67e02e",
   "metadata": {},
   "outputs": [],
   "source": [
    "plt.rcParams[\"figure.figsize\"] = (10,6)\n",
    "plt.scatter(low_df[\"clutter_d__meter\"], low_df[\"L_excess__db\"], label='Low TX', s=8, zorder=1)\n",
    "plt.scatter(high_df[\"clutter_d__meter\"], high_df[\"L_excess__db\"], label='High TX', s=8, zorder=0)\n",
    "\n",
    "plt.xlabel('3D Clutter Distance (m)')\n",
    "plt.ylabel('Clutter Loss (dB)')\n",
    "plt.title('3D Clutter Distance vs Clutter Loss')\n",
    "  \n",
    "plt.legend(fontsize=14)\n",
    "plt.show()"
   ]
  },
  {
   "cell_type": "markdown",
   "id": "1b68f1f9-e60f-408d-af0e-cd4d4ff03a46",
   "metadata": {},
   "source": [
    "### Plot the logarithmic transform of the data\n",
    "\n",
    "Apply a log transform to the x axis."
   ]
  },
  {
   "cell_type": "code",
   "execution_count": null,
   "id": "5637da07-8e9b-47ca-b252-279d8dd75dfd",
   "metadata": {},
   "outputs": [],
   "source": [
    "plt.rcParams[\"figure.figsize\"] = (10,6)\n",
    "\n",
    "plt.scatter(np.log10(low_df[\"clutter_d__meter\"]), low_df[\"L_excess__db\"], label='Low TX', s=8, zorder=1)\n",
    "plt.scatter(np.log10(high_df[\"clutter_d__meter\"]), high_df[\"L_excess__db\"], label='High TX', s=8, zorder=0)\n",
    "\n",
    "\n",
    "plt.xlabel('Log10(3D Clutter Distance)')\n",
    "plt.ylabel('Clutter Loss (dB)')\n",
    "plt.title('Logarithmic transform of the data')\n",
    "  \n",
    "plt.legend(fontsize=14)\n",
    "plt.show()"
   ]
  },
  {
   "cell_type": "markdown",
   "id": "e8fd8463-7cf2-4bd8-96e1-6863f78f3aea",
   "metadata": {},
   "source": [
    "### Fit data with a linear regression line"
   ]
  },
  {
   "cell_type": "code",
   "execution_count": null,
   "id": "f3c5efa8-bf0f-477e-b276-1512c0cd26bf",
   "metadata": {},
   "outputs": [],
   "source": [
    "## concatinate the high and low dataframes\n",
    "df1 = high_df[[\"clutter_d__meter\", \"L_excess__db\"]]\n",
    "df2 = low_df[[\"clutter_d__meter\", \"L_excess__db\"]]\n",
    "frames = [df1, df2]\n",
    "full_df = pd.concat(frames)\n",
    "\n",
    "## perform the linear regression on the data\n",
    "linear_regression = LinearRegression()\n",
    "linear_regression.fit(np.array(np.log10(full_df[\"clutter_d__meter\"])).reshape(-1,1), full_df[\"L_excess__db\"])\n",
    "y_int = linear_regression.intercept_\n",
    "slope = linear_regression.coef_[0]\n",
    "print(\"y = {:.2f} * log10(x) + {:.2f}\".format(slope, y_int))"
   ]
  },
  {
   "cell_type": "markdown",
   "id": "6e36e406-f857-44a3-ad57-f7673f743db5",
   "metadata": {},
   "source": [
    "### Plot with the regression line"
   ]
  },
  {
   "cell_type": "code",
   "execution_count": null,
   "id": "814c30ec-e4ea-40d2-a609-2dc5076683cc",
   "metadata": {},
   "outputs": [],
   "source": [
    "plt.scatter(np.log10(low_df[\"clutter_d__meter\"]), low_df[\"L_excess__db\"], label='Low TX', s=8, zorder=1)\n",
    "plt.scatter(np.log10(high_df[\"clutter_d__meter\"]), high_df[\"L_excess__db\"], label='High TX', s=8, zorder=0)\n",
    "\n",
    "## add the regression line\n",
    "z_point = (1.5, slope*1.5 + y_int)\n",
    "n_point = (3.3, slope*3.3 + y_int)\n",
    "\n",
    "plt.plot([z_point[0], n_point[0]],[z_point[1], n_point[1]], c='b', label=\"Linear Model\")\n",
    "plt.xlabel('Log10(3D Clutter Distance)')\n",
    "plt.ylabel('Clutter Loss (dB)')\n",
    "plt.title('Linear Regression on data')\n",
    "  \n",
    "plt.legend(fontsize=16)\n",
    "plt.show()"
   ]
  },
  {
   "cell_type": "markdown",
   "id": "de5c8087-4c05-4f2e-8017-4e5373509c3c",
   "metadata": {},
   "source": [
    "### Transform back to linear units"
   ]
  },
  {
   "cell_type": "code",
   "execution_count": null,
   "id": "e28c3ec6-0efd-47ca-b907-74ff302b2733",
   "metadata": {},
   "outputs": [],
   "source": [
    "full_x = np.linspace(5,1750,2000)\n",
    "full_y = slope*np.log10(full_x) + y_int\n",
    "plt.plot(full_x, full_y, label='Model', c='b')\n",
    "\n",
    "plt.scatter(low_df[\"clutter_d__meter\"], low_df[\"L_excess__db\"], label='Low TX', s=8, zorder=1)\n",
    "plt.scatter(high_df[\"clutter_d__meter\"], high_df[\"L_excess__db\"], label='High TX', s=8, zorder=0)\n",
    "\n",
    "plt.xlabel('3D Clutter Distance (m)', fontsize=15)\n",
    "plt.ylabel('Clutter Loss (dB)', fontsize=15)\n",
    "plt.title('Fig. 7\\nLog 3D Clutter Distance Model', fontsize=16)\n",
    "plt.grid()\n",
    "plt.legend(fontsize=14)\n",
    "plt.show()"
   ]
  },
  {
   "cell_type": "markdown",
   "id": "103f30be-9aff-43e3-b2bc-1fe9196e01f8",
   "metadata": {},
   "source": [
    "### Your median clutter loss model is..."
   ]
  },
  {
   "cell_type": "code",
   "execution_count": null,
   "id": "f3d44df5-f6c3-4012-b6b8-ce6f7f0dd20e",
   "metadata": {},
   "outputs": [],
   "source": [
    "print(\"y = {:.2f} * log10(x) + {:.2f}\".format(slope, y_int))"
   ]
  },
  {
   "cell_type": "code",
   "execution_count": null,
   "id": "d10d9044-4a41-4b54-b860-791095247f85",
   "metadata": {},
   "outputs": [],
   "source": []
  },
  {
   "cell_type": "code",
   "execution_count": null,
   "id": "1ed466ba-a48d-4068-ab4b-8be591043e1b",
   "metadata": {},
   "outputs": [],
   "source": [
    "def model(r_c):\n",
    "    return slope * np.log10(r_c) + y_int\n",
    "\n",
    "# df1 = high_df[[\"clutter_d__meter\", \"L_excess__db\"]]\n",
    "# df2 = low_df[[\"clutter_d__meter\", \"L_excess__db\"]]\n",
    "# frames = [df1, df2]\n",
    "# full_df = pd.concat(frames)\n",
    "\n",
    "\n",
    "full_df[\"pred_loss\"] = full_df[\"clutter_d__meter\"].map(model)\n",
    "# low_df[\"alt_rx__meter\"] = low_df.apply(lambda row: antenna_altitude(row.RxX__meter, row.RxY__meter, row.h_rx__meter, band1_terrain), axis=1)\n",
    "full_df[\"error\"] = full_df.apply(lambda row: row.L_excess__db - row.pred_loss, axis=1)"
   ]
  },
  {
   "cell_type": "code",
   "execution_count": null,
   "id": "64a4b95d-a330-4583-a2cb-f24d9b7b0504",
   "metadata": {},
   "outputs": [],
   "source": [
    "full_x = np.linspace(5,1750,2000)\n",
    "full_y = slope*np.log10(full_x) + y_int\n",
    "plt.plot(full_x, full_y, label='Model', c='b')\n",
    "\n",
    "plt.scatter(full_df[\"clutter_d__meter\"], full_df[\"pred_loss\"], label='Predicted', s=8, zorder=1)\n",
    "\n",
    "plt.xlabel('3D Clutter Distance (m)', fontsize=15)\n",
    "plt.ylabel('Clutter Loss (dB)', fontsize=15)\n",
    "plt.title('Fig. 7\\nLog 3D Clutter Distance Model', fontsize=16)\n",
    "plt.grid()\n",
    "plt.legend(fontsize=14)\n",
    "plt.show()"
   ]
  },
  {
   "cell_type": "code",
   "execution_count": null,
   "id": "a88da1a9-23c9-4fd4-89e7-8f62626886d5",
   "metadata": {},
   "outputs": [],
   "source": [
    "plt.scatter(full_df[\"L_excess__db\"], full_df[\"pred_loss\"], label='Predicted', s=8, zorder=1)\n",
    "\n",
    "plt.xlabel('actual', fontsize=15)\n",
    "plt.ylabel('predicted', fontsize=15)\n",
    "plt.title('Fig. 7\\nLog 3D Clutter Distance Model', fontsize=16)\n",
    "plt.grid()\n",
    "plt.legend(fontsize=14)\n",
    "plt.show()"
   ]
  },
  {
   "cell_type": "code",
   "execution_count": null,
   "id": "0017e9ce-09f9-47d1-a25e-b1b468f11658",
   "metadata": {},
   "outputs": [],
   "source": [
    "x = np.linspace(0,1000,len(full_df[\"L_excess__db\"]))\n",
    "plt.scatter(x, full_df[\"error\"], label='error', s=8, zorder=1)\n",
    "\n",
    "plt.xlabel('meas', fontsize=15)\n",
    "plt.ylabel('error', fontsize=15)\n",
    "plt.title('Fig. 7\\nLog 3D Clutter Distance Model', fontsize=16)\n",
    "plt.grid()\n",
    "plt.legend(fontsize=14)\n",
    "plt.show()"
   ]
  },
  {
   "cell_type": "code",
   "execution_count": null,
   "id": "67e63fd4-4b6e-4839-b684-0cf302bf5337",
   "metadata": {},
   "outputs": [],
   "source": [
    "RMSE = np.sqrt( np.sum(np.square(full_df[\"error\"]))/len(full_df[\"error\"]) )\n",
    "print(RMSE)\n",
    "\n",
    "MAE = np.mean(abs(full_df[\"error\"]))\n",
    "print(MAE)"
   ]
  },
  {
   "cell_type": "code",
   "execution_count": null,
   "id": "1bfba968-2a5e-467a-b158-3f4b49352941",
   "metadata": {},
   "outputs": [],
   "source": []
  },
  {
   "cell_type": "code",
   "execution_count": null,
   "id": "8fb25e2b-2ecb-41fa-8c9a-1052e969e4f5",
   "metadata": {},
   "outputs": [],
   "source": [
    "full_x = np.linspace(5,1750,2000)\n",
    "full_y = slope*np.log10(full_x) + y_int\n",
    "plt.plot(full_x, full_y, label=\"Our Model\", c='b')\n",
    "\n",
    "b_y = 14.6*np.log10(full_x) - 12.289\n",
    "plt.plot(full_x, b_y, label=\"EuCAP Model\", c='g')\n",
    "\n",
    "plt.scatter(high_df[\"clutter_d__m\"], high_df[\"L_excess__db\"], label='High TX', s=8)\n",
    "plt.scatter(low_df[\"clutter_d__m\"], low_df[\"L_excess__db\"], label='Low TX', s=8)\n",
    "# plt.scatter(low_rc, low_clutter_loss, label='Low TX', s=12)\n",
    "# plt.scatter(high_rc, high_clutter_loss, label='High TX', s=12)\n",
    "\n",
    "plt.xlabel('3D Clutter Distance (m)', fontsize=15)\n",
    "plt.ylabel('Clutter Loss (dB)', fontsize=15)\n",
    "plt.title('Fig. 7\\nLog 3D Clutter Distance Model', fontsize=16)\n",
    "plt.grid()\n",
    "plt.legend(fontsize=14)\n",
    "plt.show()"
   ]
  },
  {
   "cell_type": "markdown",
   "id": "4de8571a-e66b-41e0-8b06-2c1f72912ec7",
   "metadata": {},
   "source": [
    "# REQUIREMENTS: Calculation vs Estimation\n",
    "## Calculation\n",
    "* Measurements\n",
    "* Calc. $\\mu_c$ Mean Clutter Height, REQUIRES: DTM, DSM, (Lat, Long) of measurement area.\n",
    "* Calc. $\\theta$ RX angle, REQUIRES: DTM, (Lat, Long) of RXs, (Lat, Long) of TX.\n",
    "* Calc. $d_c$ horizontal distance through clutter, REQUIRES: (Lat, Long) of RXs, (Lat, Long) of TX, (Lat, Long) endpoints of the clutter boundry.\n",
    "## Estimation\n",
    "* Measurements\n",
    "* Estimate $\\mu_c$ Mean Clutter Height.\n",
    "* Calc. $\\theta$ RX angle, REQUIRES: DTM, (Lat, Long) of RXs, (Lat, Long) of TX.\n",
    "* Calc. $d_c$ horizontal distance through clutter, REQUIRES: (Lat, Long) of RXs, (Lat, Long) of TX, (Lat, Long) endpoints of the clutter boundry.\n"
   ]
  },
  {
   "cell_type": "markdown",
   "id": "e10f876f-3dbc-4d5b-bbe5-bb4ffce09e01",
   "metadata": {},
   "source": [
    "### $y = a \\text{log}_{10}(x) + b$\n",
    "$a$ and $b$ are found through regression with measurements, $\\mu_c$, $\\theta$s, and $d_c$s.\n",
    "\n",
    "### Max's $y = 13.4\\text{log}_{10}(x) - 8.57$\n",
    "### Billy's $y = 14.6\\text{log}_{10}(x) - 12.289$"
   ]
  },
  {
   "cell_type": "markdown",
   "id": "3fc20186-56d6-4e0a-92cc-1e8a5881e6e6",
   "metadata": {},
   "source": [
    "How do you find $a$ and $b$ without measurements?\n",
    "\n",
    "How is frequency factored in?"
   ]
  },
  {
   "cell_type": "code",
   "execution_count": null,
   "id": "9f4cbdeb-a5ee-41cc-91a0-402105fc0226",
   "metadata": {},
   "outputs": [],
   "source": []
  },
  {
   "cell_type": "code",
   "execution_count": null,
   "id": "b558ccb3-98f4-4539-a125-01908134c55e",
   "metadata": {},
   "outputs": [],
   "source": [
    "print(np.min(low_df[\"d__km\"]), np.max(low_df[\"d__km\"]), np.mean(low_df[\"d__km\"]), np.std(low_df[\"d__km\"]))\n",
    "print(np.min(high_df[\"d__km\"]), np.max(high_df[\"d__km\"]), np.mean(high_df[\"d__km\"]), np.std(high_df[\"d__km\"]))"
   ]
  }
 ],
 "metadata": {
  "kernelspec": {
   "display_name": "Python 3 (ipykernel)",
   "language": "python",
   "name": "python3"
  },
  "language_info": {
   "codemirror_mode": {
    "name": "ipython",
    "version": 3
   },
   "file_extension": ".py",
   "mimetype": "text/x-python",
   "name": "python",
   "nbconvert_exporter": "python",
   "pygments_lexer": "ipython3",
   "version": "3.11.9"
  }
 },
 "nbformat": 4,
 "nbformat_minor": 5
}
